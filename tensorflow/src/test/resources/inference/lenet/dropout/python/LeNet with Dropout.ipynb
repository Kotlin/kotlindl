{
 "cells": [
  {
   "cell_type": "code",
   "execution_count": 1,
   "metadata": {},
   "outputs": [],
   "source": [
    "import tensorflow as tf\n",
    "%load_ext tensorboard\n",
    "import datetime, os"
   ]
  },
  {
   "cell_type": "code",
   "execution_count": 2,
   "metadata": {},
   "outputs": [],
   "source": [
    "mnist = tf.keras.datasets.fashion_mnist\n",
    "\n",
    "(x_train_1, y_train), (x_test_1, y_test) = mnist.load_data()\n",
    "x_train_1, x_test_1 = x_train_1 / 255.0, x_test_1 / 255.0\n",
    "\n",
    "x_train = x_train_1.reshape(60000,28,28,1)\n",
    "x_test = x_test_1.reshape(10000,28,28,1)\n"
   ]
  },
  {
   "cell_type": "code",
   "execution_count": 13,
   "metadata": {},
   "outputs": [
    {
     "name": "stdout",
     "output_type": "stream",
     "text": [
      "Model: \"sequential_6\"\n",
      "_________________________________________________________________\n",
      "Layer (type)                 Output Shape              Param #   \n",
      "=================================================================\n",
      "conv2d_12 (Conv2D)           (None, 28, 28, 32)        320       \n",
      "_________________________________________________________________\n",
      "max_pooling2d_12 (MaxPooling (None, 14, 14, 32)        0         \n",
      "_________________________________________________________________\n",
      "conv2d_13 (Conv2D)           (None, 14, 14, 64)        18496     \n",
      "_________________________________________________________________\n",
      "max_pooling2d_13 (MaxPooling (None, 7, 7, 64)          0         \n",
      "_________________________________________________________________\n",
      "flatten_6 (Flatten)          (None, 3136)              0         \n",
      "_________________________________________________________________\n",
      "dense_16 (Dense)             (None, 256)               803072    \n",
      "_________________________________________________________________\n",
      "dropout_5 (Dropout)          (None, 256)               0         \n",
      "_________________________________________________________________\n",
      "dense_17 (Dense)             (None, 84)                21588     \n",
      "_________________________________________________________________\n",
      "dropout_6 (Dropout)          (None, 84)                0         \n",
      "_________________________________________________________________\n",
      "dense_18 (Dense)             (None, 10)                850       \n",
      "=================================================================\n",
      "Total params: 844,326\n",
      "Trainable params: 844,326\n",
      "Non-trainable params: 0\n",
      "_________________________________________________________________\n"
     ]
    }
   ],
   "source": [
    "from tensorflow.keras.models import Sequential\n",
    "from tensorflow.keras.layers import Conv2D, Dense, MaxPool2D, Dropout, Flatten\n",
    "from tensorflow.keras.constraints import max_norm\n",
    "from tensorflow.keras import regularizers\n",
    "from tensorflow.keras import initializers\n",
    "\n",
    "model = Sequential()\n",
    "model.add(Conv2D(kernel_initializer=initializers.GlorotNormal(seed=12),  \n",
    "                 bias_initializer=initializers.GlorotUniform(seed=12),\n",
    "    filters=32, kernel_size=(3,3), padding='same', activation='relu', input_shape=(28, 28, 1)))\n",
    "model.add(MaxPool2D(padding='same'))\n",
    "model.add(Conv2D(kernel_initializer=initializers.he_normal(seed=12),  \n",
    "                 bias_initializer=initializers.he_uniform(seed=12),\n",
    "    filters=64, kernel_size=(3,3), padding='same', activation='relu'))\n",
    "model.add(MaxPool2D(padding='same'))\n",
    "model.add(Flatten())\n",
    "model.add(Dense(256, activation='relu',\n",
    "                     kernel_initializer=initializers.lecun_normal(seed=12),  \n",
    "                     bias_initializer=initializers.lecun_uniform(seed=12)))\n",
    "model.add(Dropout(0.2))\n",
    "model.add(Dense(84, activation='relu',\n",
    "                    kernel_initializer=initializers.RandomNormal(seed=12),  \n",
    "                    bias_initializer=initializers.RandomUniform(seed=12)))\n",
    "model.add(Dropout(0.2))\n",
    "model.add(Dense(10, activation='linear', kernel_initializer=initializers.he_normal(seed=12),  \n",
    "                 bias_initializer=initializers.he_uniform(seed=12)))\n",
    "\n",
    "\n",
    "model.compile(optimizer='adam',\n",
    "              loss=tf.keras.losses.SparseCategoricalCrossentropy(from_logits=True),\n",
    "              metrics=['accuracy'])\n",
    "\n",
    "\n",
    "model.summary()"
   ]
  },
  {
   "cell_type": "code",
   "execution_count": 14,
   "metadata": {},
   "outputs": [
    {
     "name": "stdout",
     "output_type": "stream",
     "text": [
      "Train on 60000 samples\n",
      "Epoch 1/2\n",
      "60000/60000 [==============================] - 33s 551us/sample - loss: 0.5775 - accuracy: 0.7896\n",
      "Epoch 2/2\n",
      "60000/60000 [==============================] - 34s 568us/sample - loss: 0.3498 - accuracy: 0.8744\n",
      "10000/1 - 2s - loss: 0.3291 - accuracy: 0.8812\n"
     ]
    },
    {
     "data": {
      "text/plain": [
       "[0.32017512500286105, 0.8812]"
      ]
     },
     "execution_count": 14,
     "metadata": {},
     "output_type": "execute_result"
    }
   ],
   "source": [
    "model.fit(x_train, y_train, batch_size=1000, epochs=2)\n",
    "\n",
    "model.evaluate(x_test,  y_test, batch_size=1000, verbose=2)"
   ]
  },
  {
   "cell_type": "code",
   "execution_count": 15,
   "metadata": {},
   "outputs": [],
   "source": [
    "model.save_weights(\"C:\\\\zaleslaw\\\\home\\\\models\\\\dropout\\\\weights.h5\")\n",
    "\n",
    "# serialize model to JSON\n",
    "model_json = model.to_json()\n",
    "with open(\"C:\\\\zaleslaw\\\\home\\\\models\\\\dropout\\\\modelConfig.json\", \"w\") as json_file:\n",
    "    json_file.write(model_json)"
   ]
  }
 ],
 "metadata": {
  "kernelspec": {
   "display_name": "Python 3",
   "language": "python",
   "name": "python3"
  },
  "language_info": {
   "codemirror_mode": {
    "name": "ipython",
    "version": 3
   },
   "file_extension": ".py",
   "mimetype": "text/x-python",
   "name": "python",
   "nbconvert_exporter": "python",
   "pygments_lexer": "ipython3",
   "version": "3.7.6"
  }
 },
 "nbformat": 4,
 "nbformat_minor": 4
}
