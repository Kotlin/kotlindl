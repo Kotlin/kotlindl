{
 "cells": [
  {
   "cell_type": "code",
   "execution_count": 1,
   "id": "3e600434-bef0-42e0-a1bd-e860492e3759",
   "metadata": {},
   "outputs": [],
   "source": [
    "@file:DependsOn(\"org.jetbrains.kotlinx:kotlin-deeplearning-api:0.3.0\")\n",
    "\n",
    "import org.jetbrains.kotlinx.dl.api.core.Sequential\n",
    "import org.jetbrains.kotlinx.dl.api.core.activation.Activations\n",
    "import org.jetbrains.kotlinx.dl.api.core.initializer.GlorotNormal\n",
    "import org.jetbrains.kotlinx.dl.api.core.initializer.Zeros\n",
    "import org.jetbrains.kotlinx.dl.api.core.layer.core.Dense\n",
    "import org.jetbrains.kotlinx.dl.api.core.layer.core.Input\n",
    "import org.jetbrains.kotlinx.dl.api.core.loss.Losses\n",
    "import org.jetbrains.kotlinx.dl.api.core.metric.Metrics\n",
    "import org.jetbrains.kotlinx.dl.api.core.optimizer.Adam\n",
    "import org.jetbrains.kotlinx.dl.api.core.summary.logSummary\n",
    "import org.jetbrains.kotlinx.dl.dataset.OnHeapDataset\n",
    "import kotlin.random.Random"
   ]
  },
  {
   "cell_type": "code",
   "execution_count": 2,
   "id": "79648cf6-2f00-4cfd-bb77-569a29be7e14",
   "metadata": {},
   "outputs": [],
   "source": [
    "val SEED = 12L\n",
    "val TEST_BATCH_SIZE = 1000\n",
    "val EPOCHS = 100\n",
    "val TRAINING_BATCH_SIZE = 100"
   ]
  },
  {
   "cell_type": "code",
   "execution_count": 3,
   "id": "b744488d-d19a-4e70-8ec3-7540f1f3a8be",
   "metadata": {},
   "outputs": [],
   "source": [
    "val model = Sequential.of(\n",
    "    Input(4),\n",
    "    Dense(1, Activations.Linear, kernelInitializer = GlorotNormal(), biasInitializer = Zeros(), name = \"dense_2\")\n",
    ")"
   ]
  },
  {
   "cell_type": "markdown",
   "id": "32e45ee1-326e-48f6-8fcc-5ae618b1ee9e",
   "metadata": {},
   "source": [
    "This example shows how to do regression from scratch, starting from generated dataset, using simple Dense-based [model] with 1 neuron.\n",
    "It includes:\n",
    " - dataset creation\n",
    " - dataset splitting\n",
    " - model compilation\n",
    " - model training\n",
    " - model evaluation\n",
    " - model weights printing"
   ]
  },
  {
   "cell_type": "code",
   "execution_count": 4,
   "id": "9dad6540-0ffa-49a1-8d40-48bee48e2026",
   "metadata": {},
   "outputs": [],
   "source": [
    "val rnd = Random(SEED)"
   ]
  },
  {
   "cell_type": "code",
   "execution_count": 6,
   "id": "e85b7ff0-1f79-43e4-9f61-1f6cc38a4e62",
   "metadata": {},
   "outputs": [],
   "source": [
    "val data = Array(10000) { doubleArrayOf(0.0, 0.0, 0.0, 0.0, 0.0) }\n",
    "\n",
    "for (i in data.indices) {\n",
    "    data[i][1] = 2 * (rnd.nextDouble() - 0.5)\n",
    "    data[i][2] = 2 * (rnd.nextDouble() - 0.5)\n",
    "    data[i][3] = 2 * (rnd.nextDouble() - 0.5)\n",
    "    data[i][4] = 2 * (rnd.nextDouble() - 0.5)\n",
    "    data[i][0] = data[i][1] - 2 * data[i][2] + 1.5 * data[i][3] - 0.95 * data[i][4] + rnd.nextDouble(0.1)\n",
    "    // 1 * x1 - 2 * x2 + 1.5 * x3  - 0.95 * x4 +- 0.1\n",
    "}\n",
    "\n",
    "data.shuffle()"
   ]
  },
  {
   "cell_type": "code",
   "execution_count": 7,
   "id": "558f0dc2-eb61-4501-b79d-762b447e6cf2",
   "metadata": {},
   "outputs": [],
   "source": [
    "fun extractX(): Array<FloatArray> {\n",
    "    val init: (index: Int) -> FloatArray = { index ->\n",
    "        floatArrayOf(\n",
    "            data[index][1].toFloat(),\n",
    "            data[index][2].toFloat(),\n",
    "            data[index][3].toFloat(),\n",
    "            data[index][4].toFloat()\n",
    "        )\n",
    "    }\n",
    "    return Array(data.size, init = init)\n",
    "}"
   ]
  },
  {
   "cell_type": "code",
   "execution_count": 8,
   "id": "4402859c-2053-404c-b931-78503c6ee645",
   "metadata": {},
   "outputs": [],
   "source": [
    "fun extractY(): FloatArray {\n",
    "    val labels = FloatArray(data.size) { 0.0f }\n",
    "        for (i in labels.indices) {\n",
    "        labels[i] = data[i][0].toFloat()\n",
    "    }\n",
    "    return labels\n",
    "}"
   ]
  },
  {
   "cell_type": "code",
   "execution_count": 9,
   "id": "a0646b00-a353-4b6d-a626-989d401211fe",
   "metadata": {},
   "outputs": [],
   "source": [
    "val dataset = OnHeapDataset.create(\n",
    "    ::extractX,\n",
    "    ::extractY\n",
    ")"
   ]
  },
  {
   "cell_type": "code",
   "execution_count": 10,
   "id": "ff7d5e73-c496-43ca-a737-4644c9e17da1",
   "metadata": {},
   "outputs": [],
   "source": [
    "val (train, test) = dataset.split(0.9)"
   ]
  },
  {
   "cell_type": "code",
   "execution_count": 11,
   "id": "d27b870f-18eb-4c64-9fe3-6c9f69351e3e",
   "metadata": {},
   "outputs": [],
   "source": [
    "model.compile(\n",
    "    optimizer = Adam(),\n",
    "    loss = Losses.MSE,\n",
    "    metric = Metrics.MAE\n",
    ")"
   ]
  },
  {
   "cell_type": "code",
   "execution_count": 12,
   "id": "19381cb9-0166-475f-98fb-7c76c3488a1a",
   "metadata": {
    "tags": []
   },
   "outputs": [],
   "source": [
    "// temporary not support, https://github.com/JetBrains/KotlinDL/pull/251\n",
    "model.logSummary()"
   ]
  },
  {
   "cell_type": "code",
   "execution_count": 13,
   "id": "652331f6-c1d2-42a0-89db-0838adcf5d67",
   "metadata": {},
   "outputs": [
    {
     "data": {
      "text/plain": "org.jetbrains.kotlinx.dl.api.core.history.TrainingHistory@3bc735b3"
     },
     "execution_count": 13,
     "metadata": {},
     "output_type": "execute_result"
    }
   ],
   "source": [
    "model.fit(dataset = train, epochs = EPOCHS, batchSize = TRAINING_BATCH_SIZE)"
   ]
  },
  {
   "cell_type": "code",
   "execution_count": 14,
   "id": "c935700e-06a4-4c2b-91f4-8c11b1f44a09",
   "metadata": {},
   "outputs": [
    {
     "name": "stdout",
     "output_type": "stream",
     "text": [
      "xReal: [[-0.46381631, 0.22729328, -0.29862544, -0.21243858]], yReal: -1.1082815, yPred: -1.098101\r\n",
      "xReal: [[0.5736741, 0.58325845, 0.7649467, -0.30839145]], yReal: 0.84929097, yPred: 0.93960464\r\n",
      "xReal: [[-0.30228084, 0.3294686, -0.30368438, -0.6893691]], yReal: -0.71664935, yPred: -0.68782794\r\n",
      "xReal: [[-0.1556095, -0.69278276, -0.59373754, -0.98509234]], yReal: 1.3380044, yPred: 1.2723669\r\n",
      "xReal: [[0.3742811, 0.5068636, -0.1685736, 0.30070955]], yReal: -1.1212511, yPred: -1.0900835\r\n",
      "xReal: [[-0.63312966, 0.7812809, -0.8235429, 0.41300496]], yReal: -3.7743382, yPred: -3.7140877\r\n",
      "xReal: [[-0.2603415, -0.6877468, -0.18285686, 0.9571242]], yReal: -0.0061237975, yPred: -0.07070598\r\n",
      "xReal: [[0.56727064, -0.12575187, 0.77977014, -0.40324146]], yReal: 2.3973203, yPred: 2.4099414\r\n",
      "xReal: [[-0.82317954, -0.7354211, 0.258378, 0.047056086]], yReal: 1.0534166, yPred: 0.9833306\r\n",
      "xReal: [[-0.51003575, -0.5526107, -0.5429335, 0.23280351]], yReal: -0.3731529, yPred: -0.43232405\r\n",
      "xReal: [[0.22667238, -0.7503269, 0.67731917, -0.7678122]], yReal: 3.5063016, yPred: 3.463846\r\n",
      "xReal: [[-0.39176005, 0.75565445, 0.4258257, -0.15160246]], yReal: -1.0602486, yPred: -1.0150348\r\n",
      "xReal: [[0.44902572, -0.16282226, -0.87884843, 0.68304265]], yReal: -1.1682901, yPred: -1.1538981\r\n",
      "xReal: [[0.54311585, -0.52389693, -0.65923995, -0.09812717]], yReal: 0.7510916, yPred: 0.7059635\r\n",
      "xReal: [[0.46559408, -0.4089564, -0.70768684, -0.59430325]], yReal: 0.8290695, yPred: 0.805776\r\n",
      "xReal: [[-0.72531503, 0.74603194, 0.60314435, -0.31423613]], yReal: -0.96634704, yPred: -0.91006887\r\n",
      "xReal: [[-0.5366847, -0.7174626, -0.27247468, 0.15792339]], yReal: 0.39816996, yPred: 0.3346434\r\n",
      "xReal: [[0.41528165, -0.90811116, 0.81870544, 0.5951944]], yReal: 2.9658484, yPred: 2.8737562\r\n",
      "xReal: [[0.5611324, 0.6238682, -0.5132494, -0.89957505]], yReal: -0.52930385, yPred: -0.5050403\r\n",
      "xReal: [[0.49120894, -0.9135454, -0.5866044, -0.74659485]], yReal: 2.2104013, yPred: 2.1285136\r\n",
      "xReal: [[0.08831589, -0.8302774, 0.16252148, -0.03524711]], yReal: 2.0944047, yPred: 2.0122612\r\n",
      "xReal: [[0.38540673, 0.7872533, -0.39042836, 0.14466172]], yReal: -1.8317382, yPred: -1.8028122\r\n",
      "xReal: [[0.63835007, 0.30303037, 0.8379581, -0.67254895]], yReal: 2.0071282, yPred: 1.998797\r\n",
      "xReal: [[-0.051235855, 0.9012244, 0.73841786, -0.036302]], yReal: -0.69245535, yPred: -0.59559643\r\n",
      "xReal: [[0.6352286, -0.8519114, 0.56301737, -0.6214224]], yReal: 3.7768042, yPred: 3.7577784\r\n",
      "xReal: [[-0.7108247, 0.70056087, -0.18521751, -0.59859025]], yReal: -1.7838109, yPred: -1.719375\r\n",
      "xReal: [[-0.8132814, -0.2791997, -0.83965445, -0.05676205]], yReal: -1.4249725, yPred: -1.4315196\r\n",
      "xReal: [[0.22076888, -0.64462394, 0.11477663, -0.72542214]], yReal: 2.3763757, yPred: 2.3713195\r\n",
      "xReal: [[0.3151763, -0.7203778, -0.56745, -0.5393991]], yReal: 1.5050632, yPred: 1.4126184\r\n",
      "xReal: [[0.4470693, 0.13491623, 0.452608, -0.88229835]], yReal: 1.7115349, yPred: 1.7527107\r\n",
      "xReal: [[-0.8001178, -0.3556682, 0.063786164, 0.035057608]], yReal: 0.062125687, yPred: -0.004612077\r\n",
      "xReal: [[0.333838, -0.23896177, 0.2582729, 0.76531076]], yReal: 0.49968642, yPred: 0.5032033\r\n",
      "xReal: [[0.1467871, -0.33159658, -0.21140832, 0.42525616]], yReal: 0.15384397, yPred: 0.11346045\r\n",
      "xReal: [[0.85082704, -0.8959454, -0.6532071, 0.73436797]], yReal: 0.9679728, yPred: 0.94831026\r\n",
      "xReal: [[0.011036086, 0.40091375, 0.0304546, 0.3518994]], yReal: -0.98230785, yPred: -0.9999536\r\n",
      "xReal: [[-0.91887766, -0.26120993, 0.28322878, 0.09926755]], yReal: -0.051735222, yPred: -0.037348554\r\n",
      "xReal: [[-0.7667112, 0.6742301, -0.40591425, -0.15309468]], yReal: -2.5642645, yPred: -2.4783514\r\n",
      "xReal: [[0.77157354, 0.88579524, -0.32815403, 0.1419983]], yReal: -1.5991845, yPred: -1.5102836\r\n",
      "xReal: [[-0.998563, 0.58897537, 0.74265456, 0.7977868]], yReal: -1.7866558, yPred: -1.7280856\r\n",
      "xReal: [[-0.84551996, -0.5469486, -0.25958186, -0.099553324]], yReal: 0.026722234, yPred: -0.038650483\r\n",
      "xReal: [[0.95970637, 0.30891123, -0.22627746, 0.9450119]], yReal: -0.8807503, yPred: -0.82175314\r\n",
      "xReal: [[0.049741115, 0.5645693, -0.20268276, -0.21344583]], yReal: -1.162982, yPred: -1.0886862\r\n",
      "xReal: [[0.58302826, -0.4578611, -0.5466664, 0.3270572]], yReal: 0.40202647, yPred: 0.38374808\r\n",
      "xReal: [[0.33573568, -0.856081, -0.16016257, -0.36271343]], yReal: 2.1775582, yPred: 2.1368673\r\n",
      "xReal: [[-0.46242628, -0.57928145, -0.061490685, -0.291083]], yReal: 0.9447287, yPred: 0.88552713\r\n",
      "xReal: [[0.28923148, -0.3359834, -0.15277407, -0.612358]], yReal: 1.3311709, yPred: 1.337566\r\n",
      "xReal: [[0.51850283, -0.3406194, 0.6859286, -0.89893144]], yReal: 3.1007617, yPred: 3.1047387\r\n",
      "xReal: [[0.7297134, -0.29419768, 0.3059174, -0.19130503]], yReal: 2.0314715, yPred: 1.985318\r\n",
      "xReal: [[-0.8803666, 0.22969504, 0.83414894, -0.4966417]], yReal: 0.45800397, yPred: 0.44784656\r\n",
      "xReal: [[-0.21173486, -0.91154134, -0.86649877, 0.02315901]], yReal: 0.31349307, yPred: 0.27107197\r\n",
      "xReal: [[-0.053070325, -0.9488732, -0.8194795, 0.09400341]], yReal: 0.52706665, yPred: 0.5048287\r\n",
      "xReal: [[0.47907454, -0.11813988, -0.17684516, 0.85955757]], yReal: -0.297629, yPred: -0.32551938\r\n",
      "xReal: [[0.6227633, 0.44997516, 0.82922316, 0.16153327]], yReal: 0.88182425, yPred: 0.89529574\r\n",
      "xReal: [[0.73115396, -0.45181385, -0.21319981, 0.7617238]], yReal: 0.62187535, yPred: 0.60723054\r\n",
      "xReal: [[0.59632826, -0.53813845, -0.8857423, -0.7758878]], yReal: 1.0937608, yPred: 1.09079\r\n",
      "xReal: [[-0.87066764, 0.20810604, -0.90268755, 0.6135187]], yReal: -3.1696136, yPred: -3.157669\r\n",
      "xReal: [[-0.82093847, 0.14154269, -0.21084784, 0.2685606]], yReal: -1.6177473, yPred: -1.6155621\r\n",
      "xReal: [[0.49786788, -0.6793513, 0.7707256, -0.57114804]], yReal: 3.5890386, yPred: 3.551779\r\n",
      "xReal: [[-0.95742476, 0.3120384, 0.60278684, -0.48668668]], yReal: -0.15683347, yPred: -0.14384907\r\n",
      "xReal: [[0.8813695, 0.40301132, -0.9161679, -0.5806576]], yReal: -0.6924013, yPred: -0.6662371\r\n",
      "xReal: [[-0.800687, 0.86906093, 0.9577445, 0.4074704]], yReal: -1.4720153, yPred: -1.3762021\r\n",
      "xReal: [[0.3610174, -0.5772802, -0.9432007, 0.575982]], yReal: -0.36339253, yPred: -0.43910047\r\n",
      "xReal: [[-0.8989889, 0.10965133, 0.7087169, -0.66684055]], yReal: 0.6232245, yPred: 0.63389933\r\n",
      "xReal: [[0.7190093, 0.6398011, 0.42398182, 0.3656678]], yReal: -0.24288309, yPred: -0.17481154\r\n",
      "xReal: [[0.5132625, -0.42238423, 0.460873, 0.039392494]], yReal: 2.0551436, yPred: 2.028597\r\n",
      "xReal: [[0.25799766, 0.4749593, -0.73569894, -0.42345878]], yReal: -1.3200432, yPred: -1.307172\r\n",
      "xReal: [[-0.86701524, -0.2888694, -0.13923644, 0.6929644]], yReal: -1.1289792, yPred: -1.129046\r\n",
      "xReal: [[0.31735405, -0.9138768, -0.5783327, 0.698079]], yReal: 0.64347625, yPred: 0.5957835\r\n",
      "xReal: [[-0.82225484, -0.19584823, -0.79604965, 0.17789914]], yReal: -1.7519301, yPred: -1.7583934\r\n",
      "xReal: [[-0.45829186, -0.1248087, 0.034881335, 0.26802236]], yReal: -0.38347197, yPred: -0.3714589\r\n",
      "xReal: [[0.7139978, 0.65171033, 0.6272842, 0.7144722]], yReal: -0.27957538, yPred: -0.22932217\r\n",
      "xReal: [[-0.37217587, 0.84644884, 0.5700095, 0.9803231]], yReal: -2.1307602, yPred: -2.028976\r\n",
      "xReal: [[-0.13510469, -0.44951203, 0.08768284, 0.81983346]], yReal: 0.12008878, yPred: 0.13186952\r\n",
      "xReal: [[0.34897596, -0.4562005, 0.8139209, 0.41944095]], yReal: 2.0873528, yPred: 2.0974622\r\n",
      "xReal: [[-0.21864027, 0.24358188, -0.15034561, -0.75993586]], yReal: -0.11964392, yPred: -0.1420869\r\n",
      "xReal: [[-0.29662392, -0.66539705, 0.27050507, 0.13413945]], yReal: 1.4009007, yPred: 1.3108212\r\n",
      "xReal: [[0.21848156, -0.18995523, -0.48038268, 0.63529235]], yReal: -0.6721634, yPred: -0.68989265\r\n",
      "xReal: [[0.31820956, -0.6693466, -0.7077072, 0.7171251]], yReal: -0.017791307, yPred: -0.085897654\r\n",
      "xReal: [[-0.4847963, 0.8946771, 0.004603497, -0.6391513]], yReal: -1.6374339, yPred: -1.5438687\r\n",
      "xReal: [[-0.2298175, -0.39023155, -0.17753111, 0.83803296]], yReal: -0.49701646, yPred: -0.49165878\r\n",
      "xReal: [[-0.8820676, -0.037014794, 0.4497792, 0.37999052]], yReal: -0.43905553, yPred: -0.448979\r\n",
      "xReal: [[0.3410075, -0.52832454, 0.27903122, -0.36068344]], yReal: 2.212924, yPred: 2.1675727\r\n",
      "xReal: [[0.8948797, -0.89872444, -0.503249, 0.59742177]], yReal: 1.42407, yPred: 1.3524765\r\n",
      "xReal: [[0.41700292, 0.68159467, 0.8454926, -0.050270893]], yReal: 0.39397326, yPred: 0.46921346\r\n",
      "xReal: [[0.89776444, -0.59360725, 0.87055814, 0.79885143]], yReal: 2.6550121, yPred: 2.635495\r\n",
      "xReal: [[0.95928603, 0.8484128, -0.8748016, -0.019794643]], yReal: -1.9769185, yPred: -1.9160465\r\n",
      "xReal: [[0.7719083, 0.097716406, 0.50086653, 0.33562222]], yReal: 1.0399088, yPred: 1.0650692\r\n",
      "xReal: [[-0.31500688, 0.5364474, -0.93872046, 0.27905288]], yReal: -3.0294507, yPred: -2.9700532\r\n",
      "xReal: [[-0.6890168, -0.7336685, -0.31571805, -0.20739807]], yReal: 0.5321407, yPred: 0.4955413\r\n",
      "xReal: [[0.41431302, -0.37105218, -0.5954542, -0.14525239]], yReal: 0.48257223, yPred: 0.42329398\r\n",
      "xReal: [[-0.7203807, 0.039459184, -0.45796114, -0.42291594]], yReal: -1.0774882, yPred: -1.0321828\r\n",
      "xReal: [[-0.4982758, -0.50136393, 0.037699725, 0.6729063]], yReal: -0.069785036, yPred: -0.06704065\r\n",
      "xReal: [[-0.4772969, -0.46050355, -0.42816678, 0.44004506]], yReal: -0.55907494, yPred: -0.6016481\r\n",
      "xReal: [[0.020726064, -0.5239205, 0.1638278, 0.05735338]], yReal: 1.3523245, yPred: 1.2690976\r\n",
      "xReal: [[-0.29562888, 0.3612441, 0.43767065, 0.41159987]], yReal: -0.7370946, yPred: -0.6768949\r\n",
      "xReal: [[-0.52804023, -0.12943597, -0.025976429, 0.22439748]], yReal: -0.46288106, yPred: -0.48209813\r\n",
      "xReal: [[0.37909836, 0.9808103, -0.49010578, 0.37274733]], yReal: -2.5989964, yPred: -2.5475647\r\n",
      "xReal: [[0.17293637, 0.25030112, 0.02997033, -0.4605105]], yReal: 0.21037225, yPred: 0.22258514\r\n",
      "xReal: [[-0.7055303, -0.15871476, -0.7615262, 0.42731225]], yReal: -1.9277902, yPred: -1.8981895\r\n",
      "xReal: [[-0.2029334, 0.005258173, 0.8763435, -0.55968374]], yReal: 1.6423215, yPred: 1.680566\r\n"
     ]
    }
   ],
   "source": [
    "repeat(100) { id ->\n",
    "    val xReal = test.getX(id)\n",
    "    val yReal = test.getY(id)\n",
    "    val yPred = model.predictSoftly(xReal)\n",
    "\n",
    "    println(\"xReal: ${arrayOf(xReal).contentDeepToString()}, yReal: $yReal, yPred: ${yPred[0]}\")\n",
    "}"
   ]
  },
  {
   "cell_type": "code",
   "execution_count": 15,
   "id": "026a1f52-627c-42ff-bace-d8886a52da2a",
   "metadata": {},
   "outputs": [
    {
     "name": "stdout",
     "output_type": "stream",
     "text": [
      "Weights: [[1.0004072], [-1.9244609], [1.4984584], [-0.9495823]]\r\n",
      "Bias: [0.049071163]\r\n",
      "MAE: 0.042641740292310715\r\n"
     ]
    }
   ],
   "source": [
    "val mae = model.evaluate(dataset = test, batchSize = TEST_BATCH_SIZE).metrics[Metrics.MAE]\n",
    "println(\"Weights: \" + model.getLayer(\"dense_2\").weights[\"dense_2_dense_kernel\"].contentDeepToString())\n",
    "println(\"Bias: \" + model.getLayer(\"dense_2\").weights[\"dense_2_dense_bias\"].contentDeepToString())\n",
    "println(\"MAE: $mae\")"
   ]
  },
  {
   "cell_type": "code",
   "execution_count": 16,
   "id": "38e0805e-a8e3-4d9f-b9eb-dddcee18de51",
   "metadata": {},
   "outputs": [
    {
     "name": "stdout",
     "output_type": "stream",
     "text": [
      "xReal: -0.46381631, yReal: -1.1082815, yPred: -1.098101\r\n",
      "xReal: 0.5736741, yReal: 0.84929097, yPred: 0.93960464\r\n",
      "xReal: -0.30228084, yReal: -0.71664935, yPred: -0.68782794\r\n",
      "xReal: -0.1556095, yReal: 1.3380044, yPred: 1.2723669\r\n",
      "xReal: 0.3742811, yReal: -1.1212511, yPred: -1.0900835\r\n",
      "xReal: -0.63312966, yReal: -3.7743382, yPred: -3.7140877\r\n",
      "xReal: -0.2603415, yReal: -0.0061237975, yPred: -0.07070598\r\n",
      "xReal: 0.56727064, yReal: 2.3973203, yPred: 2.4099414\r\n",
      "xReal: -0.82317954, yReal: 1.0534166, yPred: 0.9833306\r\n",
      "xReal: -0.51003575, yReal: -0.3731529, yPred: -0.43232405\r\n",
      "xReal: 0.22667238, yReal: 3.5063016, yPred: 3.463846\r\n",
      "xReal: -0.39176005, yReal: -1.0602486, yPred: -1.0150348\r\n",
      "xReal: 0.44902572, yReal: -1.1682901, yPred: -1.1538981\r\n",
      "xReal: 0.54311585, yReal: 0.7510916, yPred: 0.7059635\r\n",
      "xReal: 0.46559408, yReal: 0.8290695, yPred: 0.805776\r\n",
      "xReal: -0.72531503, yReal: -0.96634704, yPred: -0.91006887\r\n",
      "xReal: -0.5366847, yReal: 0.39816996, yPred: 0.3346434\r\n",
      "xReal: 0.41528165, yReal: 2.9658484, yPred: 2.8737562\r\n",
      "xReal: 0.5611324, yReal: -0.52930385, yPred: -0.5050403\r\n",
      "xReal: 0.49120894, yReal: 2.2104013, yPred: 2.1285136\r\n",
      "xReal: 0.08831589, yReal: 2.0944047, yPred: 2.0122612\r\n",
      "xReal: 0.38540673, yReal: -1.8317382, yPred: -1.8028122\r\n",
      "xReal: 0.63835007, yReal: 2.0071282, yPred: 1.998797\r\n",
      "xReal: -0.051235855, yReal: -0.69245535, yPred: -0.59559643\r\n",
      "xReal: 0.6352286, yReal: 3.7768042, yPred: 3.7577784\r\n",
      "xReal: -0.7108247, yReal: -1.7838109, yPred: -1.719375\r\n",
      "xReal: -0.8132814, yReal: -1.4249725, yPred: -1.4315196\r\n",
      "xReal: 0.22076888, yReal: 2.3763757, yPred: 2.3713195\r\n",
      "xReal: 0.3151763, yReal: 1.5050632, yPred: 1.4126184\r\n",
      "xReal: 0.4470693, yReal: 1.7115349, yPred: 1.7527107\r\n",
      "xReal: -0.8001178, yReal: 0.062125687, yPred: -0.004612077\r\n",
      "xReal: 0.333838, yReal: 0.49968642, yPred: 0.5032033\r\n",
      "xReal: 0.1467871, yReal: 0.15384397, yPred: 0.11346045\r\n",
      "xReal: 0.85082704, yReal: 0.9679728, yPred: 0.94831026\r\n",
      "xReal: 0.011036086, yReal: -0.98230785, yPred: -0.9999536\r\n",
      "xReal: -0.91887766, yReal: -0.051735222, yPred: -0.037348554\r\n",
      "xReal: -0.7667112, yReal: -2.5642645, yPred: -2.4783514\r\n",
      "xReal: 0.77157354, yReal: -1.5991845, yPred: -1.5102836\r\n",
      "xReal: -0.998563, yReal: -1.7866558, yPred: -1.7280856\r\n",
      "xReal: -0.84551996, yReal: 0.026722234, yPred: -0.038650483\r\n",
      "xReal: 0.95970637, yReal: -0.8807503, yPred: -0.82175314\r\n",
      "xReal: 0.049741115, yReal: -1.162982, yPred: -1.0886862\r\n",
      "xReal: 0.58302826, yReal: 0.40202647, yPred: 0.38374808\r\n",
      "xReal: 0.33573568, yReal: 2.1775582, yPred: 2.1368673\r\n",
      "xReal: -0.46242628, yReal: 0.9447287, yPred: 0.88552713\r\n",
      "xReal: 0.28923148, yReal: 1.3311709, yPred: 1.337566\r\n",
      "xReal: 0.51850283, yReal: 3.1007617, yPred: 3.1047387\r\n",
      "xReal: 0.7297134, yReal: 2.0314715, yPred: 1.985318\r\n",
      "xReal: -0.8803666, yReal: 0.45800397, yPred: 0.44784656\r\n",
      "xReal: -0.21173486, yReal: 0.31349307, yPred: 0.27107197\r\n",
      "xReal: -0.053070325, yReal: 0.52706665, yPred: 0.5048287\r\n",
      "xReal: 0.47907454, yReal: -0.297629, yPred: -0.32551938\r\n",
      "xReal: 0.6227633, yReal: 0.88182425, yPred: 0.89529574\r\n",
      "xReal: 0.73115396, yReal: 0.62187535, yPred: 0.60723054\r\n",
      "xReal: 0.59632826, yReal: 1.0937608, yPred: 1.09079\r\n",
      "xReal: -0.87066764, yReal: -3.1696136, yPred: -3.157669\r\n",
      "xReal: -0.82093847, yReal: -1.6177473, yPred: -1.6155621\r\n",
      "xReal: 0.49786788, yReal: 3.5890386, yPred: 3.551779\r\n",
      "xReal: -0.95742476, yReal: -0.15683347, yPred: -0.14384907\r\n",
      "xReal: 0.8813695, yReal: -0.6924013, yPred: -0.6662371\r\n",
      "xReal: -0.800687, yReal: -1.4720153, yPred: -1.3762021\r\n",
      "xReal: 0.3610174, yReal: -0.36339253, yPred: -0.43910047\r\n",
      "xReal: -0.8989889, yReal: 0.6232245, yPred: 0.63389933\r\n",
      "xReal: 0.7190093, yReal: -0.24288309, yPred: -0.17481154\r\n",
      "xReal: 0.5132625, yReal: 2.0551436, yPred: 2.028597\r\n",
      "xReal: 0.25799766, yReal: -1.3200432, yPred: -1.307172\r\n",
      "xReal: -0.86701524, yReal: -1.1289792, yPred: -1.129046\r\n",
      "xReal: 0.31735405, yReal: 0.64347625, yPred: 0.5957835\r\n",
      "xReal: -0.82225484, yReal: -1.7519301, yPred: -1.7583934\r\n",
      "xReal: -0.45829186, yReal: -0.38347197, yPred: -0.3714589\r\n",
      "xReal: 0.7139978, yReal: -0.27957538, yPred: -0.22932217\r\n",
      "xReal: -0.37217587, yReal: -2.1307602, yPred: -2.028976\r\n",
      "xReal: -0.13510469, yReal: 0.12008878, yPred: 0.13186952\r\n",
      "xReal: 0.34897596, yReal: 2.0873528, yPred: 2.0974622\r\n",
      "xReal: -0.21864027, yReal: -0.11964392, yPred: -0.1420869\r\n",
      "xReal: -0.29662392, yReal: 1.4009007, yPred: 1.3108212\r\n",
      "xReal: 0.21848156, yReal: -0.6721634, yPred: -0.68989265\r\n",
      "xReal: 0.31820956, yReal: -0.017791307, yPred: -0.085897654\r\n",
      "xReal: -0.4847963, yReal: -1.6374339, yPred: -1.5438687\r\n",
      "xReal: -0.2298175, yReal: -0.49701646, yPred: -0.49165878\r\n",
      "xReal: -0.8820676, yReal: -0.43905553, yPred: -0.448979\r\n",
      "xReal: 0.3410075, yReal: 2.212924, yPred: 2.1675727\r\n",
      "xReal: 0.8948797, yReal: 1.42407, yPred: 1.3524765\r\n",
      "xReal: 0.41700292, yReal: 0.39397326, yPred: 0.46921346\r\n",
      "xReal: 0.89776444, yReal: 2.6550121, yPred: 2.635495\r\n",
      "xReal: 0.95928603, yReal: -1.9769185, yPred: -1.9160465\r\n",
      "xReal: 0.7719083, yReal: 1.0399088, yPred: 1.0650692\r\n",
      "xReal: -0.31500688, yReal: -3.0294507, yPred: -2.9700532\r\n",
      "xReal: -0.6890168, yReal: 0.5321407, yPred: 0.4955413\r\n",
      "xReal: 0.41431302, yReal: 0.48257223, yPred: 0.42329398\r\n",
      "xReal: -0.7203807, yReal: -1.0774882, yPred: -1.0321828\r\n",
      "xReal: -0.4982758, yReal: -0.069785036, yPred: -0.06704065\r\n",
      "xReal: -0.4772969, yReal: -0.55907494, yPred: -0.6016481\r\n",
      "xReal: 0.020726064, yReal: 1.3523245, yPred: 1.2690976\r\n",
      "xReal: -0.29562888, yReal: -0.7370946, yPred: -0.6768949\r\n",
      "xReal: -0.52804023, yReal: -0.46288106, yPred: -0.48209813\r\n",
      "xReal: 0.37909836, yReal: -2.5989964, yPred: -2.5475647\r\n",
      "xReal: 0.17293637, yReal: 0.21037225, yPred: 0.22258514\r\n",
      "xReal: -0.7055303, yReal: -1.9277902, yPred: -1.8981895\r\n",
      "xReal: -0.2029334, yReal: 1.6423215, yPred: 1.680566\r\n"
     ]
    }
   ],
   "source": [
    "repeat(100) { id ->\n",
    "    val xReal = test.getX(id)\n",
    "    val yReal = test.getY(id)\n",
    "\n",
    "    val yPred = model.predictSoftly(xReal)\n",
    "\n",
    "    println(\"xReal: ${xReal[0]}, yReal: $yReal, yPred: ${yPred[0]}\")\n",
    "}"
   ]
  },
  {
   "cell_type": "code",
   "execution_count": 17,
   "id": "93210681-8065-4e60-b191-b88da39737c8",
   "metadata": {
    "pycharm": {
     "name": "#%%\n"
    }
   },
   "outputs": [],
   "source": [
    "model.close()"
   ]
  }
 ],
 "metadata": {
  "kernelspec": {
   "display_name": "Kotlin",
   "language": "kotlin",
   "name": "kotlin"
  },
  "language_info": {
   "codemirror_mode": "text/x-kotlin",
   "file_extension": ".kt",
   "mimetype": "text/x-kotlin",
   "name": "kotlin",
   "nbconvert_exporter": "",
   "pygments_lexer": "kotlin",
   "version": "1.6.20-dev-6372"
  }
 },
 "nbformat": 4,
 "nbformat_minor": 5
}