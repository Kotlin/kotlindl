{
 "cells": [
  {
   "cell_type": "code",
   "id": "3e600434-bef0-42e0-a1bd-e860492e3759",
   "metadata": {
    "pycharm": {
     "name": "#%%\n"
    }
   },
   "source": [
    "@file:DependsOn(\"org.jetbrains.kotlinx:kotlin-deeplearning-api:0.3.0\")\n",
    "\n",
    "import org.jetbrains.kotlinx.dl.api.core.Sequential\n",
    "import org.jetbrains.kotlinx.dl.api.core.activation.Activations\n",
    "import org.jetbrains.kotlinx.dl.api.core.initializer.GlorotNormal\n",
    "import org.jetbrains.kotlinx.dl.api.core.initializer.Zeros\n",
    "import org.jetbrains.kotlinx.dl.api.core.layer.core.Dense\n",
    "import org.jetbrains.kotlinx.dl.api.core.layer.core.Input\n",
    "import org.jetbrains.kotlinx.dl.api.core.loss.Losses\n",
    "import org.jetbrains.kotlinx.dl.api.core.metric.Metrics\n",
    "import org.jetbrains.kotlinx.dl.api.core.optimizer.Adam\n",
    "import org.jetbrains.kotlinx.dl.api.core.summary.logSummary\n",
    "import org.jetbrains.kotlinx.dl.dataset.OnHeapDataset\n",
    "import kotlin.random.Random"
   ],
   "execution_count": 1,
   "outputs": []
  },
  {
   "cell_type": "code",
   "execution_count": 50,
   "id": "79648cf6-2f00-4cfd-bb77-569a29be7e14",
   "metadata": {},
   "outputs": [],
   "source": [
    "val SEED = 12L\n",
    "val TEST_BATCH_SIZE = 1000\n",
    "val EPOCHS = 100\n",
    "val TRAINING_BATCH_SIZE = 100"
   ]
  },
  {
   "cell_type": "code",
   "execution_count": 51,
   "id": "b744488d-d19a-4e70-8ec3-7540f1f3a8be",
   "metadata": {},
   "outputs": [],
   "source": [
    "val model = Sequential.of(\n",
    "    Input(4),\n",
    "    Dense(1, Activations.Linear, kernelInitializer = GlorotNormal(), biasInitializer = Zeros(), name = \"dense_2\")\n",
    ")"
   ]
  },
  {
   "cell_type": "markdown",
   "id": "32e45ee1-326e-48f6-8fcc-5ae618b1ee9e",
   "metadata": {},
   "source": [
    "This example shows how to do regression from scratch, starting from generated dataset, using simple Dense-based [model] with 1 neuron.\n",
    "It includes:\n",
    " - dataset creation\n",
    " - dataset splitting\n",
    " - model compilation\n",
    " - model training\n",
    " - model evaluation\n",
    " - model weights printing"
   ]
  },
  {
   "cell_type": "code",
   "execution_count": 52,
   "id": "9dad6540-0ffa-49a1-8d40-48bee48e2026",
   "metadata": {},
   "outputs": [],
   "source": [
    "val rnd = Random(SEED)"
   ]
  },
  {
   "cell_type": "code",
   "execution_count": 53,
   "id": "e85b7ff0-1f79-43e4-9f61-1f6cc38a4e62",
   "metadata": {},
   "outputs": [],
   "source": [
    "val data = Array(10000) { doubleArrayOf(0.0, 0.0, 0.0, 0.0, 0.0) }\n",
    "\n",
    "for (i in data.indices) {\n",
    "    data[i][1] = 2 * (rnd.nextDouble() - 0.5)\n",
    "    data[i][2] = 2 * (rnd.nextDouble() - 0.5)\n",
    "    data[i][3] = 2 * (rnd.nextDouble() - 0.5)\n",
    "    data[i][4] = 2 * (rnd.nextDouble() - 0.5)\n",
    "    data[i][0] = data[i][1] - 2 * data[i][2] + 1.5 * data[i][3] - 0.95 * data[i][4] + rnd.nextDouble(0.1)\n",
    "    // 1 * x1 - 2 * x2 + 1.5 * x3  - 0.95 * x4 +- 0.1\n",
    "}\n",
    "\n",
    "data.shuffle()"
   ]
  },
  {
   "cell_type": "code",
   "execution_count": 54,
   "id": "558f0dc2-eb61-4501-b79d-762b447e6cf2",
   "metadata": {},
   "outputs": [],
   "source": [
    "fun extractX(): Array<FloatArray> {\n",
    "    val init: (index: Int) -> FloatArray = { index ->\n",
    "        floatArrayOf(\n",
    "            data[index][1].toFloat(),\n",
    "            data[index][2].toFloat(),\n",
    "            data[index][3].toFloat(),\n",
    "            data[index][4].toFloat()\n",
    "        )\n",
    "    }\n",
    "    return Array(data.size, init = init)\n",
    "}"
   ]
  },
  {
   "cell_type": "code",
   "execution_count": 55,
   "id": "4402859c-2053-404c-b931-78503c6ee645",
   "metadata": {},
   "outputs": [],
   "source": [
    "fun extractY(): FloatArray {\n",
    "    val labels = FloatArray(data.size) { 0.0f }\n",
    "        for (i in labels.indices) {\n",
    "        labels[i] = data[i][0].toFloat()\n",
    "    }\n",
    "    return labels\n",
    "}"
   ]
  },
  {
   "cell_type": "code",
   "execution_count": 56,
   "id": "a0646b00-a353-4b6d-a626-989d401211fe",
   "metadata": {},
   "outputs": [],
   "source": [
    "val dataset = OnHeapDataset.create(\n",
    "    ::extractX,\n",
    "    ::extractY\n",
    ")"
   ]
  },
  {
   "cell_type": "code",
   "execution_count": 57,
   "id": "ff7d5e73-c496-43ca-a737-4644c9e17da1",
   "metadata": {},
   "outputs": [],
   "source": [
    "val (train, test) = dataset.split(0.9)"
   ]
  },
  {
   "cell_type": "code",
   "execution_count": 58,
   "id": "d27b870f-18eb-4c64-9fe3-6c9f69351e3e",
   "metadata": {},
   "outputs": [],
   "source": [
    "model.compile(\n",
    "    optimizer = Adam(),\n",
    "    loss = Losses.MSE,\n",
    "    metric = Metrics.MAE\n",
    ")"
   ]
  },
  {
   "cell_type": "code",
   "execution_count": 59,
   "id": "19381cb9-0166-475f-98fb-7c76c3488a1a",
   "metadata": {
    "tags": []
   },
   "outputs": [],
   "source": [
    "// temporary not support, https://github.com/JetBrains/KotlinDL/pull/251\n",
    "model.logSummary()"
   ]
  },
  {
   "cell_type": "code",
   "execution_count": 60,
   "id": "652331f6-c1d2-42a0-89db-0838adcf5d67",
   "metadata": {},
   "outputs": [
    {
     "data": {
      "text/plain": "org.jetbrains.kotlinx.dl.api.core.history.TrainingHistory@3eba57a7"
     },
     "execution_count": 60,
     "metadata": {},
     "output_type": "execute_result"
    }
   ],
   "source": [
    "model.fit(dataset = train, epochs = EPOCHS, batchSize = TRAINING_BATCH_SIZE)"
   ]
  },
  {
   "cell_type": "code",
   "execution_count": 61,
   "id": "c935700e-06a4-4c2b-91f4-8c11b1f44a09",
   "metadata": {},
   "outputs": [
    {
     "name": "stdout",
     "output_type": "stream",
     "text": [
      "xReal: [[0.6087428, -0.97591543, -0.51635, -0.02718567]], yReal: 1.9011898, yPred: 1.7880858\r\n",
      "xReal: [[0.6506943, -0.74951607, 0.62118393, -0.5789276]], yReal: 3.640614, yPred: 3.6217148\r\n",
      "xReal: [[0.7368443, 0.20454682, 0.5185782, -0.6787931]], yReal: 1.8144127, yPred: 1.8116987\r\n",
      "xReal: [[-0.19058122, 0.20471321, 0.29105935, 0.24365748]], yReal: -0.3682384, yPred: -0.330162\r\n",
      "xReal: [[0.67219007, -0.25889054, 0.8821758, 0.9686212]], yReal: 1.687433, yPred: 1.6211332\r\n",
      "xReal: [[0.080434956, -0.37199944, 0.2912554, 0.95787024]], yReal: 0.40611953, yPred: 0.3733495\r\n",
      "xReal: [[-0.50868046, 0.27200517, -0.62984765, 0.44977978]], yReal: -2.3983517, yPred: -2.3523724\r\n",
      "xReal: [[0.9190222, -0.4844544, -0.48235786, 0.22850004]], yReal: 1.0334556, yPred: 0.9597334\r\n",
      "xReal: [[-0.77795845, -0.94855833, 0.5636188, 0.5017549]], yReal: 1.4904497, yPred: 1.4677492\r\n",
      "xReal: [[0.8380945, 0.34323326, -0.86824536, 0.4596334]], yReal: -1.578876, yPred: -1.5121273\r\n",
      "xReal: [[0.20092645, 0.9538387, -0.29171363, -0.650504]], yReal: -1.4745728, yPred: -1.4065851\r\n",
      "xReal: [[-0.14396854, -0.44939527, 0.24372305, -0.68878955]], yReal: 1.8080261, yPred: 1.7896273\r\n",
      "xReal: [[0.84789455, 0.09723382, -0.71973383, 0.3853966]], yReal: -0.75592464, yPred: -0.73575497\r\n",
      "xReal: [[-0.124988504, 0.61675227, 0.6676577, 0.95467556]], yReal: -1.2425467, yPred: -1.1685106\r\n",
      "xReal: [[0.9571336, 0.41095972, 0.8976044, 0.77728176]], yReal: 0.76503456, yPred: 0.82035315\r\n",
      "xReal: [[0.39315963, -0.9831287, 0.6508332, 0.21599124]], yReal: 3.184623, yPred: 3.1047266\r\n",
      "xReal: [[0.25079665, -0.36258903, -0.94009733, 0.9811451]], yReal: -1.2914593, yPred: -1.3415972\r\n",
      "xReal: [[-0.13490531, -0.42579663, -0.5945718, 0.97953755]], yReal: -1.0673596, yPred: -1.0855988\r\n",
      "xReal: [[-0.12998612, 0.9789424, -0.23065105, -0.33307582]], yReal: -2.062209, yPred: -1.994829\r\n",
      "xReal: [[-0.38295332, -0.13413785, -0.3683439, 0.70435023]], yReal: -1.2545466, yPred: -1.2946709\r\n",
      "xReal: [[0.43521726, 0.4419076, 0.81397384, 0.32983357]], yReal: 0.54551744, yPred: 0.5392221\r\n",
      "xReal: [[0.57205784, -0.37280396, 0.046492737, -0.34148395]], yReal: 1.7471805, yPred: 1.7316381\r\n",
      "xReal: [[-0.19632013, -0.7576639, -0.371128, -0.9272883]], yReal: 1.6949759, yPred: 1.6361085\r\n",
      "xReal: [[-0.4894827, -0.9768563, 0.089427315, -0.033121116]], yReal: 1.645821, yPred: 1.6071917\r\n",
      "xReal: [[-0.45662346, -0.27216926, 0.1257398, 0.8303332]], yReal: -0.41477454, yPred: -0.48173642\r\n",
      "xReal: [[-0.8955299, -0.9922852, 0.23430368, -0.13105801]], yReal: 1.6189094, yPred: 1.5416905\r\n",
      "xReal: [[-0.77356035, -0.34452647, -0.9347613, 0.7015231]], yReal: -2.1517525, yPred: -2.125237\r\n",
      "xReal: [[0.43364483, -0.25882524, 0.54833686, 0.6612963]], yReal: 1.198801, yPred: 1.1744312\r\n",
      "xReal: [[-0.08272325, 0.19344181, -0.57895744, -0.17873052]], yReal: -1.1047127, yPred: -1.103469\r\n",
      "xReal: [[0.9211401, 0.21788643, -0.60511017, 0.22916433]], yReal: -0.60124475, yPred: -0.5750196\r\n",
      "xReal: [[-0.87632465, -0.13272965, -0.57273424, 0.8278071]], yReal: -2.188724, yPred: -2.2130432\r\n",
      "xReal: [[0.7916742, -0.33229747, 0.5230699, 0.7320222]], yReal: 1.6386044, yPred: 1.5682039\r\n",
      "xReal: [[-0.9236733, 0.95507866, -0.89977735, 0.29348418]], yReal: -4.3694954, yPred: -4.337811\r\n",
      "xReal: [[-0.022272343, -0.53997827, -0.1483875, -0.94971335]], yReal: 1.7760371, yPred: 1.7456113\r\n",
      "xReal: [[-0.4162101, 0.25956953, 0.7315836, -0.6937849]], yReal: 0.8236473, yPred: 0.8885019\r\n",
      "xReal: [[0.1413784, -0.024617685, 0.22411627, 0.017638296]], yReal: 0.5232533, yPred: 0.55681944\r\n",
      "xReal: [[-0.24446288, -0.34314635, -0.08278768, -0.13268064]], yReal: 0.44674948, yPred: 0.46796066\r\n",
      "xReal: [[0.23962863, -0.9723957, -0.83450115, -0.01717776]], yReal: 0.97113, yPred: 0.9268524\r\n",
      "xReal: [[-0.08954322, -0.20617776, 0.11817482, -0.7384772]], yReal: 1.2955086, yPred: 1.2346841\r\n",
      "xReal: [[-0.3700756, 0.030139146, -0.8354041, 0.19997975]], yReal: -1.8059568, yPred: -1.819295\r\n",
      "xReal: [[-0.95719355, 0.2068875, 0.9752995, -0.18720993]], yReal: 0.27206472, yPred: 0.33458376\r\n",
      "xReal: [[-0.29648897, -0.8508275, 0.3424978, 0.7819927]], yReal: 1.2386842, yPred: 1.1628451\r\n",
      "xReal: [[0.33617744, 0.34135365, 0.17707378, 0.008803713]], yReal: -0.0077790907, yPred: -0.015558448\r\n",
      "xReal: [[0.36463696, -0.34250912, -0.49642888, -0.7357052]], yReal: 1.0203301, yPred: 1.0270016\r\n",
      "xReal: [[-0.7289026, 0.1886488, 0.7465061, -0.84528]], yReal: 0.8481656, yPred: 0.8791316\r\n",
      "xReal: [[-0.5907528, 0.87612563, 0.9421719, 0.51595956]], yReal: -1.3520225, yPred: -1.3051696\r\n",
      "xReal: [[0.8950314, -0.47122338, 0.2221141, 0.53001446]], yReal: 1.7660239, yPred: 1.6796328\r\n",
      "xReal: [[-0.57026845, 0.12583224, 0.8865163, -0.6701887]], yReal: 1.2241518, yPred: 1.2020024\r\n",
      "xReal: [[-0.18764879, -0.8643647, 0.46268064, 0.49414068]], yReal: 1.8649693, yPred: 1.7506894\r\n",
      "xReal: [[0.19087282, 0.6659942, 0.18628126, 0.69198805]], yReal: -1.4568796, yPred: -1.4200647\r\n",
      "xReal: [[-0.3635833, -0.32261133, -0.70739144, 0.70862514]], yReal: -1.3960782, yPred: -1.4244398\r\n",
      "xReal: [[-0.690429, 0.44879907, 0.18753201, -0.9260442]], yReal: -0.3558412, yPred: -0.3441798\r\n",
      "xReal: [[-0.7301036, -0.62632394, -0.8873414, 0.6143967]], yReal: -1.29652, yPred: -1.3855716\r\n",
      "xReal: [[0.9473636, -0.15760696, -0.6599897, 0.44642678]], yReal: -0.054147217, yPred: -0.114212126\r\n",
      "xReal: [[-0.3620226, 0.13166797, -0.15838319, -0.31806326]], yReal: -0.53622717, yPred: -0.5009456\r\n",
      "xReal: [[-0.12188409, 0.12815799, 0.42729613, -0.28409976]], yReal: 0.58447385, yPred: 0.5906431\r\n",
      "xReal: [[0.4427392, 0.10847446, 0.7859113, 0.73786896]], yReal: 0.7589474, yPred: 0.75954825\r\n",
      "xReal: [[0.09785608, 0.41140676, -0.05271533, 0.4302429]], yReal: -1.1282859, yPred: -1.1323831\r\n",
      "xReal: [[-0.6624971, -0.55288625, 0.21113923, -0.52245057]], yReal: 1.3202842, yPred: 1.2648345\r\n",
      "xReal: [[0.7457655, -0.49834108, -0.43873778, 0.05299929]], yReal: 1.0820549, yPred: 1.0454535\r\n",
      "xReal: [[-0.4068154, 0.42437178, 0.20356394, -0.2752317]], yReal: -0.5925666, yPred: -0.6076262\r\n",
      "xReal: [[0.9440747, 0.9628491, -0.88311064, -0.2819719]], yReal: -1.9695601, yPred: -1.918043\r\n",
      "xReal: [[-0.8636919, 0.3938886, 0.59632283, -0.7102601]], yReal: -0.003712535, yPred: -0.0036582388\r\n",
      "xReal: [[0.107823215, -0.8492391, -0.9054697, -0.44221702]], yReal: 0.93305624, yPred: 0.8551606\r\n",
      "xReal: [[0.8550292, -0.76392955, -0.42130467, -0.68089384]], yReal: 2.42249, yPred: 2.388318\r\n",
      "xReal: [[0.19916841, 0.39573637, 0.110986695, 0.03252209]], yReal: -0.3798062, yPred: -0.37849906\r\n",
      "xReal: [[-0.09831169, -0.3451672, -0.7466255, 0.5893204]], yReal: -0.9969036, yPred: -1.0618838\r\n",
      "xReal: [[-0.2706708, 0.8686105, 0.4679866, -0.123599395]], yReal: -1.1809613, yPred: -1.0748703\r\n",
      "xReal: [[-0.53513, -0.14553101, -0.26956785, -0.9363325]], yReal: 0.25763488, yPred: 0.28011286\r\n",
      "xReal: [[0.62227106, -0.69480515, 0.100882865, -0.35461226]], yReal: 2.5001044, yPred: 2.495688\r\n",
      "xReal: [[-0.94020516, -0.14217156, 0.8854429, 0.31858957]], yReal: 0.42292875, yPred: 0.40910614\r\n",
      "xReal: [[-0.69385296, 0.9541459, -0.6165008, 0.89242774]], yReal: -4.329693, yPred: -4.250589\r\n",
      "xReal: [[-0.6789708, -0.07386954, -0.74617344, -0.6005677]], yReal: -1.0582246, yPred: -1.0340065\r\n",
      "xReal: [[0.56216943, 0.11132298, -0.017734602, -0.74879575]], yReal: 1.1132562, yPred: 1.0798446\r\n",
      "xReal: [[0.09059178, -0.52234966, -0.8871572, 0.8194564]], yReal: -0.8899489, yPred: -0.9611195\r\n",
      "xReal: [[0.3188723, -0.6569653, 0.7909072, -0.883621]], yReal: 3.710042, yPred: 3.6557684\r\n",
      "xReal: [[0.9412129, 0.12807475, 0.87398964, 0.3432109]], yReal: 1.6813368, yPred: 1.7256309\r\n",
      "xReal: [[-0.5619087, -0.15319297, -0.9785097, 0.29099098]], yReal: -1.921495, yPred: -1.9584638\r\n",
      "xReal: [[0.37362045, 0.37466422, 0.21034978, 0.19593205]], yReal: -0.2064044, yPred: -0.17003335\r\n",
      "xReal: [[-0.30705068, 0.033973917, 0.5589493, -0.071278766]], yReal: 0.5431819, yPred: 0.5825266\r\n",
      "xReal: [[0.43583685, 0.23338053, 0.5829581, 0.35765702]], yReal: 0.5207258, yPred: 0.56885904\r\n",
      "xReal: [[0.82806534, -0.6190464, 0.43558595, 0.2709515]], yReal: 2.4790726, yPred: 2.4630547\r\n",
      "xReal: [[-0.24047586, -0.29845175, 0.37645027, -0.21232666]], yReal: 1.1399393, yPred: 1.1494545\r\n",
      "xReal: [[0.7521999, -0.22360542, 0.66050637, 0.64301306]], yReal: 1.5869449, yPred: 1.6098839\r\n",
      "xReal: [[-0.2171632, -0.64754134, 0.11878849, 0.92196494]], yReal: 0.39938524, yPred: 0.3826229\r\n",
      "xReal: [[0.9092244, 0.060785193, -0.21355309, 0.3903644]], yReal: 0.14302629, yPred: 0.14924142\r\n",
      "xReal: [[-0.7785705, 0.5733258, -0.109413, -0.32382485]], yReal: -1.7420956, yPred: -1.6881706\r\n",
      "xReal: [[-0.46689424, 0.010504319, -0.6853476, 0.07265575]], yReal: -1.5070286, yPred: -1.5324867\r\n",
      "xReal: [[-0.055902343, -0.7771161, 0.9610196, -0.665234]], yReal: 3.5961373, yPred: 3.5607836\r\n",
      "xReal: [[-0.8776412, -0.46538678, 0.1161691, 0.7878477]], yReal: -0.44933406, yPred: -0.50384676\r\n",
      "xReal: [[0.46311092, -0.8336371, 0.93110555, 0.35241356]], yReal: 3.19835, yPred: 3.1771338\r\n",
      "xReal: [[-0.095837206, 0.24263304, 0.699882, 0.2716504]], yReal: 0.30041492, yPred: 0.27727985\r\n",
      "xReal: [[-0.46665862, -0.84279186, -0.2863539, -0.6361562]], yReal: 1.463163, yPred: 1.38103\r\n",
      "xReal: [[0.7626027, -0.7726, -0.6176724, -0.9253266]], yReal: 2.3452926, yPred: 2.2505205\r\n",
      "xReal: [[0.5622488, -0.06119678, 0.89228386, 0.3102955]], yReal: 1.7776611, yPred: 1.7705518\r\n",
      "xReal: [[0.3116581, 0.085933074, -0.48826578, -0.17162135]], yReal: -0.39462772, yPred: -0.3738023\r\n",
      "xReal: [[0.37463325, -0.36582685, 0.4318253, 0.19250564]], yReal: 1.6289408, yPred: 1.5918226\r\n",
      "xReal: [[-0.6997751, 0.9187735, -0.42104706, -0.18879586]], yReal: -2.897267, yPred: -2.8696828\r\n",
      "xReal: [[-0.06313326, -0.7937054, 0.5505531, -0.30851966]], yReal: 2.6498234, yPred: 2.6321144\r\n",
      "xReal: [[-0.9343862, -0.24071473, -0.8684445, -0.9881315]], yReal: -0.77456033, yPred: -0.78307045\r\n"
     ]
    }
   ],
   "source": [
    "repeat(100) { id ->\n",
    "    val xReal = test.getX(id)\n",
    "    val yReal = test.getY(id)\n",
    "    val yPred = model.predictSoftly(xReal)\n",
    "\n",
    "    println(\"xReal: ${arrayOf(xReal).contentDeepToString()}, yReal: $yReal, yPred: ${yPred[0]}\")\n",
    "}"
   ]
  },
  {
   "cell_type": "code",
   "execution_count": 62,
   "id": "026a1f52-627c-42ff-bace-d8886a52da2a",
   "metadata": {},
   "outputs": [
    {
     "name": "stdout",
     "output_type": "stream",
     "text": [
      "Weights: [[0.99786204], [-1.9254692], [1.4981416], [-0.9488229]]\r\n",
      "Bias: [0.049320396]\r\n",
      "MAE: 0.04350972920656204\r\n"
     ]
    }
   ],
   "source": [
    "val mae = model.evaluate(dataset = test, batchSize = TEST_BATCH_SIZE).metrics[Metrics.MAE]\n",
    "println(\"Weights: \" + model.getLayer(\"dense_2\").weights[\"dense_2_dense_kernel\"].contentDeepToString())\n",
    "println(\"Bias: \" + model.getLayer(\"dense_2\").weights[\"dense_2_dense_bias\"].contentDeepToString())\n",
    "println(\"MAE: $mae\")"
   ]
  },
  {
   "cell_type": "code",
   "execution_count": 63,
   "id": "38e0805e-a8e3-4d9f-b9eb-dddcee18de51",
   "metadata": {},
   "outputs": [
    {
     "name": "stdout",
     "output_type": "stream",
     "text": [
      "xReal: 0.6087428, yReal: 1.9011898, yPred: 1.7880858\r\n",
      "xReal: 0.6506943, yReal: 3.640614, yPred: 3.6217148\r\n",
      "xReal: 0.7368443, yReal: 1.8144127, yPred: 1.8116987\r\n",
      "xReal: -0.19058122, yReal: -0.3682384, yPred: -0.330162\r\n",
      "xReal: 0.67219007, yReal: 1.687433, yPred: 1.6211332\r\n",
      "xReal: 0.080434956, yReal: 0.40611953, yPred: 0.3733495\r\n",
      "xReal: -0.50868046, yReal: -2.3983517, yPred: -2.3523724\r\n",
      "xReal: 0.9190222, yReal: 1.0334556, yPred: 0.9597334\r\n",
      "xReal: -0.77795845, yReal: 1.4904497, yPred: 1.4677492\r\n",
      "xReal: 0.8380945, yReal: -1.578876, yPred: -1.5121273\r\n",
      "xReal: 0.20092645, yReal: -1.4745728, yPred: -1.4065851\r\n",
      "xReal: -0.14396854, yReal: 1.8080261, yPred: 1.7896273\r\n",
      "xReal: 0.84789455, yReal: -0.75592464, yPred: -0.73575497\r\n",
      "xReal: -0.124988504, yReal: -1.2425467, yPred: -1.1685106\r\n",
      "xReal: 0.9571336, yReal: 0.76503456, yPred: 0.82035315\r\n",
      "xReal: 0.39315963, yReal: 3.184623, yPred: 3.1047266\r\n",
      "xReal: 0.25079665, yReal: -1.2914593, yPred: -1.3415972\r\n",
      "xReal: -0.13490531, yReal: -1.0673596, yPred: -1.0855988\r\n",
      "xReal: -0.12998612, yReal: -2.062209, yPred: -1.994829\r\n",
      "xReal: -0.38295332, yReal: -1.2545466, yPred: -1.2946709\r\n",
      "xReal: 0.43521726, yReal: 0.54551744, yPred: 0.5392221\r\n",
      "xReal: 0.57205784, yReal: 1.7471805, yPred: 1.7316381\r\n",
      "xReal: -0.19632013, yReal: 1.6949759, yPred: 1.6361085\r\n",
      "xReal: -0.4894827, yReal: 1.645821, yPred: 1.6071917\r\n",
      "xReal: -0.45662346, yReal: -0.41477454, yPred: -0.48173642\r\n",
      "xReal: -0.8955299, yReal: 1.6189094, yPred: 1.5416905\r\n",
      "xReal: -0.77356035, yReal: -2.1517525, yPred: -2.125237\r\n",
      "xReal: 0.43364483, yReal: 1.198801, yPred: 1.1744312\r\n",
      "xReal: -0.08272325, yReal: -1.1047127, yPred: -1.103469\r\n",
      "xReal: 0.9211401, yReal: -0.60124475, yPred: -0.5750196\r\n",
      "xReal: -0.87632465, yReal: -2.188724, yPred: -2.2130432\r\n",
      "xReal: 0.7916742, yReal: 1.6386044, yPred: 1.5682039\r\n",
      "xReal: -0.9236733, yReal: -4.3694954, yPred: -4.337811\r\n",
      "xReal: -0.022272343, yReal: 1.7760371, yPred: 1.7456113\r\n",
      "xReal: -0.4162101, yReal: 0.8236473, yPred: 0.8885019\r\n",
      "xReal: 0.1413784, yReal: 0.5232533, yPred: 0.55681944\r\n",
      "xReal: -0.24446288, yReal: 0.44674948, yPred: 0.46796066\r\n",
      "xReal: 0.23962863, yReal: 0.97113, yPred: 0.9268524\r\n",
      "xReal: -0.08954322, yReal: 1.2955086, yPred: 1.2346841\r\n",
      "xReal: -0.3700756, yReal: -1.8059568, yPred: -1.819295\r\n",
      "xReal: -0.95719355, yReal: 0.27206472, yPred: 0.33458376\r\n",
      "xReal: -0.29648897, yReal: 1.2386842, yPred: 1.1628451\r\n",
      "xReal: 0.33617744, yReal: -0.0077790907, yPred: -0.015558448\r\n",
      "xReal: 0.36463696, yReal: 1.0203301, yPred: 1.0270016\r\n",
      "xReal: -0.7289026, yReal: 0.8481656, yPred: 0.8791316\r\n",
      "xReal: -0.5907528, yReal: -1.3520225, yPred: -1.3051696\r\n",
      "xReal: 0.8950314, yReal: 1.7660239, yPred: 1.6796328\r\n",
      "xReal: -0.57026845, yReal: 1.2241518, yPred: 1.2020024\r\n",
      "xReal: -0.18764879, yReal: 1.8649693, yPred: 1.7506894\r\n",
      "xReal: 0.19087282, yReal: -1.4568796, yPred: -1.4200647\r\n",
      "xReal: -0.3635833, yReal: -1.3960782, yPred: -1.4244398\r\n",
      "xReal: -0.690429, yReal: -0.3558412, yPred: -0.3441798\r\n",
      "xReal: -0.7301036, yReal: -1.29652, yPred: -1.3855716\r\n",
      "xReal: 0.9473636, yReal: -0.054147217, yPred: -0.114212126\r\n",
      "xReal: -0.3620226, yReal: -0.53622717, yPred: -0.5009456\r\n",
      "xReal: -0.12188409, yReal: 0.58447385, yPred: 0.5906431\r\n",
      "xReal: 0.4427392, yReal: 0.7589474, yPred: 0.75954825\r\n",
      "xReal: 0.09785608, yReal: -1.1282859, yPred: -1.1323831\r\n",
      "xReal: -0.6624971, yReal: 1.3202842, yPred: 1.2648345\r\n",
      "xReal: 0.7457655, yReal: 1.0820549, yPred: 1.0454535\r\n",
      "xReal: -0.4068154, yReal: -0.5925666, yPred: -0.6076262\r\n",
      "xReal: 0.9440747, yReal: -1.9695601, yPred: -1.918043\r\n",
      "xReal: -0.8636919, yReal: -0.003712535, yPred: -0.0036582388\r\n",
      "xReal: 0.107823215, yReal: 0.93305624, yPred: 0.8551606\r\n",
      "xReal: 0.8550292, yReal: 2.42249, yPred: 2.388318\r\n",
      "xReal: 0.19916841, yReal: -0.3798062, yPred: -0.37849906\r\n",
      "xReal: -0.09831169, yReal: -0.9969036, yPred: -1.0618838\r\n",
      "xReal: -0.2706708, yReal: -1.1809613, yPred: -1.0748703\r\n",
      "xReal: -0.53513, yReal: 0.25763488, yPred: 0.28011286\r\n",
      "xReal: 0.62227106, yReal: 2.5001044, yPred: 2.495688\r\n",
      "xReal: -0.94020516, yReal: 0.42292875, yPred: 0.40910614\r\n",
      "xReal: -0.69385296, yReal: -4.329693, yPred: -4.250589\r\n",
      "xReal: -0.6789708, yReal: -1.0582246, yPred: -1.0340065\r\n",
      "xReal: 0.56216943, yReal: 1.1132562, yPred: 1.0798446\r\n",
      "xReal: 0.09059178, yReal: -0.8899489, yPred: -0.9611195\r\n",
      "xReal: 0.3188723, yReal: 3.710042, yPred: 3.6557684\r\n",
      "xReal: 0.9412129, yReal: 1.6813368, yPred: 1.7256309\r\n",
      "xReal: -0.5619087, yReal: -1.921495, yPred: -1.9584638\r\n",
      "xReal: 0.37362045, yReal: -0.2064044, yPred: -0.17003335\r\n",
      "xReal: -0.30705068, yReal: 0.5431819, yPred: 0.5825266\r\n",
      "xReal: 0.43583685, yReal: 0.5207258, yPred: 0.56885904\r\n",
      "xReal: 0.82806534, yReal: 2.4790726, yPred: 2.4630547\r\n",
      "xReal: -0.24047586, yReal: 1.1399393, yPred: 1.1494545\r\n",
      "xReal: 0.7521999, yReal: 1.5869449, yPred: 1.6098839\r\n",
      "xReal: -0.2171632, yReal: 0.39938524, yPred: 0.3826229\r\n",
      "xReal: 0.9092244, yReal: 0.14302629, yPred: 0.14924142\r\n",
      "xReal: -0.7785705, yReal: -1.7420956, yPred: -1.6881706\r\n",
      "xReal: -0.46689424, yReal: -1.5070286, yPred: -1.5324867\r\n",
      "xReal: -0.055902343, yReal: 3.5961373, yPred: 3.5607836\r\n",
      "xReal: -0.8776412, yReal: -0.44933406, yPred: -0.50384676\r\n",
      "xReal: 0.46311092, yReal: 3.19835, yPred: 3.1771338\r\n",
      "xReal: -0.095837206, yReal: 0.30041492, yPred: 0.27727985\r\n",
      "xReal: -0.46665862, yReal: 1.463163, yPred: 1.38103\r\n",
      "xReal: 0.7626027, yReal: 2.3452926, yPred: 2.2505205\r\n",
      "xReal: 0.5622488, yReal: 1.7776611, yPred: 1.7705518\r\n",
      "xReal: 0.3116581, yReal: -0.39462772, yPred: -0.3738023\r\n",
      "xReal: 0.37463325, yReal: 1.6289408, yPred: 1.5918226\r\n",
      "xReal: -0.6997751, yReal: -2.897267, yPred: -2.8696828\r\n",
      "xReal: -0.06313326, yReal: 2.6498234, yPred: 2.6321144\r\n",
      "xReal: -0.9343862, yReal: -0.77456033, yPred: -0.78307045\r\n"
     ]
    }
   ],
   "source": [
    "repeat(100) { id ->\n",
    "    val xReal = test.getX(id)\n",
    "    val yReal = test.getY(id)\n",
    "\n",
    "    val yPred = model.predictSoftly(xReal)\n",
    "\n",
    "    println(\"xReal: ${xReal[0]}, yReal: $yReal, yPred: ${yPred[0]}\")\n",
    "}"
   ]
  },
  {
   "cell_type": "code",
   "execution_count": 64,
   "id": "93210681-8065-4e60-b191-b88da39737c8",
   "metadata": {
    "pycharm": {
     "name": "#%%\n"
    }
   },
   "outputs": [],
   "source": [
    "model.close()"
   ]
  }
 ],
 "metadata": {
  "kernelspec": {
   "display_name": "Kotlin",
   "language": "kotlin",
   "name": "kotlin"
  },
  "language_info": {
   "codemirror_mode": "text/x-kotlin",
   "file_extension": ".kt",
   "mimetype": "text/x-kotlin",
   "name": "kotlin",
   "nbconvert_exporter": "",
   "pygments_lexer": "kotlin",
   "version": "1.6.20-dev-6372"
  }
 },
 "nbformat": 4,
 "nbformat_minor": 5
}