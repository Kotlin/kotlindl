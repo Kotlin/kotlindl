{
 "cells": [
  {
   "cell_type": "code",
   "execution_count": 1,
   "id": "3e600434-bef0-42e0-a1bd-e860492e3759",
   "metadata": {},
   "outputs": [],
   "source": [
    "@file:DependsOn(\"org.jetbrains.kotlinx:kotlin-deeplearning-api:0.3.0\")\n",
    "\n",
    "import org.jetbrains.kotlinx.dl.api.core.Sequential\n",
    "import org.jetbrains.kotlinx.dl.api.core.activation.Activations\n",
    "import org.jetbrains.kotlinx.dl.api.core.initializer.GlorotNormal\n",
    "import org.jetbrains.kotlinx.dl.api.core.initializer.Zeros\n",
    "import org.jetbrains.kotlinx.dl.api.core.layer.core.Dense\n",
    "import org.jetbrains.kotlinx.dl.api.core.layer.core.Input\n",
    "import org.jetbrains.kotlinx.dl.api.core.loss.Losses\n",
    "import org.jetbrains.kotlinx.dl.api.core.metric.Metrics\n",
    "import org.jetbrains.kotlinx.dl.api.core.optimizer.Adam\n",
    "import org.jetbrains.kotlinx.dl.api.core.summary.logSummary\n",
    "import org.jetbrains.kotlinx.dl.dataset.OnHeapDataset\n",
    "import kotlin.random.Random"
   ]
  },
  {
   "cell_type": "code",
   "execution_count": 3,
   "id": "79648cf6-2f00-4cfd-bb77-569a29be7e14",
   "metadata": {},
   "outputs": [],
   "source": [
    "val SEED = 12L\n",
    "val TEST_BATCH_SIZE = 1000\n",
    "val EPOCHS = 100\n",
    "val TRAINING_BATCH_SIZE = 100"
   ]
  },
  {
   "cell_type": "code",
   "execution_count": 4,
   "id": "b744488d-d19a-4e70-8ec3-7540f1f3a8be",
   "metadata": {},
   "outputs": [],
   "source": [
    "val model = Sequential.of(\n",
    "    Input(4),\n",
    "    Dense(1, Activations.Linear, kernelInitializer = GlorotNormal(), biasInitializer = Zeros(), name = \"dense_2\")\n",
    ")"
   ]
  },
  {
   "cell_type": "markdown",
   "id": "32e45ee1-326e-48f6-8fcc-5ae618b1ee9e",
   "metadata": {},
   "source": [
    "This example shows how to do regression from scratch, starting from generated dataset, using simple Dense-based [model] with 1 neuron.\n",
    "It includes:\n",
    " - dataset creation\n",
    " - dataset splitting\n",
    " - model compilation\n",
    " - model training\n",
    " - model evaluation\n",
    " - model weights printing"
   ]
  },
  {
   "cell_type": "code",
   "execution_count": 5,
   "id": "9dad6540-0ffa-49a1-8d40-48bee48e2026",
   "metadata": {},
   "outputs": [],
   "source": [
    "val rnd = Random(SEED)"
   ]
  },
  {
   "cell_type": "code",
   "execution_count": 7,
   "id": "e85b7ff0-1f79-43e4-9f61-1f6cc38a4e62",
   "metadata": {},
   "outputs": [],
   "source": [
    "val data = Array(10000) { doubleArrayOf(0.0, 0.0, 0.0, 0.0, 0.0) }\n",
    "\n",
    "for (i in data.indices) {\n",
    "    data[i][1] = 2 * (rnd.nextDouble() - 0.5)\n",
    "    data[i][2] = 2 * (rnd.nextDouble() - 0.5)\n",
    "    data[i][3] = 2 * (rnd.nextDouble() - 0.5)\n",
    "    data[i][4] = 2 * (rnd.nextDouble() - 0.5)\n",
    "    data[i][0] = data[i][1] - 2 * data[i][2] + 1.5 * data[i][3] - 0.95 * data[i][4] + rnd.nextDouble(0.1)\n",
    "    // 1 * x1 - 2 * x2 + 1.5 * x3  - 0.95 * x4 +- 0.1\n",
    "}\n",
    "\n",
    "data.shuffle()"
   ]
  },
  {
   "cell_type": "code",
   "execution_count": 9,
   "id": "558f0dc2-eb61-4501-b79d-762b447e6cf2",
   "metadata": {},
   "outputs": [],
   "source": [
    "fun extractX(): Array<FloatArray> {\n",
    "    val init: (index: Int) -> FloatArray = { index ->\n",
    "        floatArrayOf(\n",
    "            data[index][1].toFloat(),\n",
    "            data[index][2].toFloat(),\n",
    "            data[index][3].toFloat(),\n",
    "            data[index][4].toFloat()\n",
    "        )\n",
    "    }\n",
    "    return Array(data.size, init = init)\n",
    "}"
   ]
  },
  {
   "cell_type": "code",
   "execution_count": 11,
   "id": "4402859c-2053-404c-b931-78503c6ee645",
   "metadata": {},
   "outputs": [],
   "source": [
    "fun extractY(): FloatArray {\n",
    "    val labels = FloatArray(data.size) { 0.0f }\n",
    "        for (i in labels.indices) {\n",
    "        labels[i] = data[i][0].toFloat()\n",
    "    }\n",
    "    return labels\n",
    "}"
   ]
  },
  {
   "cell_type": "code",
   "execution_count": 12,
   "id": "a0646b00-a353-4b6d-a626-989d401211fe",
   "metadata": {},
   "outputs": [],
   "source": [
    "val dataset = OnHeapDataset.create(\n",
    "    ::extractX,\n",
    "    ::extractY\n",
    ")"
   ]
  },
  {
   "cell_type": "code",
   "execution_count": 13,
   "id": "ff7d5e73-c496-43ca-a737-4644c9e17da1",
   "metadata": {},
   "outputs": [],
   "source": [
    "val (train, test) = dataset.split(0.9)"
   ]
  },
  {
   "cell_type": "code",
   "execution_count": 14,
   "id": "d27b870f-18eb-4c64-9fe3-6c9f69351e3e",
   "metadata": {},
   "outputs": [],
   "source": [
    "model.compile(\n",
    "    optimizer = Adam(),\n",
    "    loss = Losses.MSE,\n",
    "    metric = Metrics.MAE\n",
    ")"
   ]
  },
  {
   "cell_type": "code",
   "execution_count": null,
   "id": "19381cb9-0166-475f-98fb-7c76c3488a1a",
   "metadata": {
    "tags": []
   },
   "outputs": [],
   "source": [
    "// temporary not support, https://github.com/JetBrains/KotlinDL/pull/251\n",
    "model.logSummary()"
   ]
  },
  {
   "cell_type": "code",
   "execution_count": 15,
   "id": "652331f6-c1d2-42a0-89db-0838adcf5d67",
   "metadata": {},
   "outputs": [
    {
     "data": {
      "text/plain": [
       "org.jetbrains.kotlinx.dl.api.core.history.TrainingHistory@5eccd3b9"
      ]
     },
     "execution_count": 15,
     "metadata": {},
     "output_type": "execute_result"
    }
   ],
   "source": [
    "model.fit(dataset = train, epochs = EPOCHS, batchSize = TRAINING_BATCH_SIZE)"
   ]
  },
  {
   "cell_type": "code",
   "execution_count": 17,
   "id": "c935700e-06a4-4c2b-91f4-8c11b1f44a09",
   "metadata": {},
   "outputs": [
    {
     "name": "stdout",
     "output_type": "stream",
     "text": [
      "xReal: [[0.5539668, -0.52224463, 0.87776214, -0.38244128]], yReal: 3.3727727, yPred: 3.2869294\n",
      "xReal: [[0.35120124, -0.67848516, -0.07302495, -0.70261604]], yReal: 2.2710063, yPred: 2.2638047\n",
      "xReal: [[0.73524225, -0.14792243, 0.28574997, 0.18923226]], yReal: 1.3489411, yPred: 1.317679\n",
      "xReal: [[0.77088237, 0.4149414, -0.1166994, -0.41026783]], yReal: 0.23058084, yPred: 0.23685409\n",
      "xReal: [[-0.83985275, 0.48582548, -0.93762654, -0.1811578]], yReal: -3.006621, yPred: -2.95868\n",
      "xReal: [[-0.9319623, 0.03033123, 0.040475365, 0.400423]], yReal: -1.3023514, yPred: -1.2610584\n",
      "xReal: [[0.5114596, -0.07594006, -0.6268773, 0.5511299]], yReal: -0.80048424, yPred: -0.7563286\n",
      "xReal: [[0.71694493, 0.38426498, 0.46299422, 0.89486367]], yReal: -0.12234519, yPred: -0.12916163\n",
      "xReal: [[-0.7549203, -0.54401046, -0.23129436, 0.28655922]], yReal: -0.21595323, yPred: -0.27823496\n",
      "xReal: [[-0.22682856, -0.5217256, -0.9592582, -0.25867578]], yReal: -0.3647471, yPred: -0.3660003\n",
      "xReal: [[-0.16958275, -0.63749295, -0.22634758, -0.25621533]], yReal: 1.0733652, yPred: 1.0101429\n",
      "xReal: [[0.55107397, 0.92166847, -0.4233358, -0.21553972]], yReal: -1.7156777, yPred: -1.6024302\n",
      "xReal: [[-0.7413579, 0.9486067, -0.32852048, -0.2499873]], yReal: -2.8416684, yPred: -2.7721114\n",
      "xReal: [[0.040725425, 0.4353253, 0.074221425, 0.6684932]], yReal: -1.2625089, yPred: -1.271391\n",
      "xReal: [[-0.114923686, 0.20866232, -0.5398353, 0.8329098]], yReal: -2.1096516, yPred: -2.0675976\n",
      "xReal: [[-0.02724215, -0.04453068, 0.69771785, -0.2596026]], yReal: 1.4294659, yPred: 1.4000248\n",
      "xReal: [[-0.38675752, -0.87460303, -0.87222326, 0.022251023]], yReal: 0.0931997, yPred: 0.016450945\n",
      "xReal: [[-0.48338443, 0.008827317, -0.85363144, -0.7765066]], yReal: -0.9821144, yPred: -0.99299014\n",
      "xReal: [[-0.83383644, 0.3105204, 0.46645203, -0.44150084]], yReal: -0.23748063, yPred: -0.26359114\n",
      "xReal: [[0.45535254, -0.8638054, -0.06516916, 0.14322989]], yReal: 1.9514494, yPred: 1.9326667\n",
      "xReal: [[0.9300605, -0.25257954, -0.27466825, -0.61137336]], yReal: 1.689115, yPred: 1.6345193\n",
      "xReal: [[0.99374145, 0.93532723, 0.16219854, 0.20117956]], yReal: -0.8023093, yPred: -0.7042347\n",
      "xReal: [[0.4180884, -0.96407855, -0.4527243, 0.9053192]], yReal: 0.8536958, yPred: 0.78338975\n",
      "xReal: [[-0.33712414, -0.686309, -0.51425195, -0.035641994]], yReal: 0.34043157, yPred: 0.29540008\n",
      "xReal: [[0.8165555, 0.5489202, 0.79029334, -0.21207486]], yReal: 1.117272, yPred: 1.1959295\n",
      "xReal: [[-0.5032145, -0.108647846, 0.2718146, 0.6487577]], yReal: -0.41727573, yPred: -0.45404968\n",
      "xReal: [[0.48166013, -0.62746555, 0.03380529, 0.55918217]], yReal: 1.2877318, yPred: 1.257483\n",
      "xReal: [[-0.23498462, -0.07577771, -0.50890213, 0.08549193]], yReal: -0.8516231, yPred: -0.8840317\n",
      "xReal: [[-0.31343645, 0.5494897, 0.16186786, 0.3855169]], yReal: -1.5261366, yPred: -1.4450421\n",
      "xReal: [[0.3117504, 0.3512113, -0.32129043, 0.7826743]], yReal: -1.5507317, yPred: -1.5397792\n",
      "xReal: [[0.16959436, 0.9983674, -0.56630564, -0.58714306]], yReal: -2.0644777, yPred: -1.9927845\n",
      "xReal: [[-0.2900524, 0.98164356, -0.3401321, 0.7109346]], yReal: -3.3404434, yPred: -3.3146017\n",
      "xReal: [[-0.5021038, 0.38784444, -0.8960482, -0.23290701]], yReal: -2.38949, yPred: -2.3208835\n",
      "xReal: [[0.74934906, 0.4036835, 0.7861655, 0.45555988]], yReal: 0.7731964, yPred: 0.76763546\n",
      "xReal: [[-0.44562852, -0.46928105, -0.04698262, -0.16378707]], yReal: 0.6277747, yPred: 0.5914644\n",
      "xReal: [[0.8718472, 0.13032787, 0.6415863, 0.1693216]], yReal: 1.4315501, yPred: 1.4712765\n",
      "xReal: [[0.062482312, -0.90031064, -0.4797927, 0.19420473]], yReal: 1.0044018, yPred: 0.9400623\n",
      "xReal: [[0.98123515, -0.42607424, -0.7910898, -0.46026206]], yReal: 1.1530268, yPred: 1.1018751\n",
      "xReal: [[0.63971525, 0.6861638, 0.3473918, 0.431258]], yReal: -0.620396, yPred: -0.5200116\n",
      "xReal: [[0.6294824, 0.29841638, 0.19592108, 0.52717954]], yReal: -0.07721994, yPred: -0.10246691\n",
      "xReal: [[0.9734435, -0.22150014, -0.29961666, 0.90541327]], yReal: 0.1505106, yPred: 0.13969675\n",
      "xReal: [[-0.30228084, 0.3294686, -0.30368438, -0.6893691]], yReal: -0.71664935, yPred: -0.6871974\n",
      "xReal: [[-0.62507117, 0.24929623, -0.3189401, 0.98463607]], yReal: -2.4398103, yPred: -2.4690835\n",
      "xReal: [[-0.3947088, 0.9835403, -0.062307578, 0.9511424]], yReal: -3.340797, yPred: -3.234726\n",
      "xReal: [[0.39209998, 0.1759825, -0.022239948, 0.20078686]], yReal: -0.14594956, yPred: -0.121258885\n",
      "xReal: [[-0.4170863, -0.21605177, 0.322279, 0.43302837]], yReal: 0.09758042, yPred: 0.11931023\n",
      "xReal: [[-0.035751965, -0.7405446, 0.07980824, -0.7144003]], yReal: 2.255976, yPred: 2.2364278\n",
      "xReal: [[-0.5661118, 0.7989213, 0.8481689, 0.5877646]], yReal: -1.4251038, yPred: -1.341115\n",
      "xReal: [[0.7595308, 0.6034246, -0.8052812, 0.8334532]], yReal: -2.4276257, yPred: -2.3507743\n",
      "xReal: [[-0.99579644, 0.29565752, -0.2508229, -0.95156306]], yReal: -0.9687499, yPred: -0.98748136\n",
      "xReal: [[0.80612737, 0.78196174, -0.44609734, -0.82438546]], yReal: -0.6025042, yPred: -0.53423816\n",
      "xReal: [[0.35205087, -0.032659125, -0.18553196, -0.9433016]], yReal: 1.0459691, yPred: 1.0822635\n",
      "xReal: [[-0.5142884, 0.32690692, -0.3371121, -0.49232194]], yReal: -1.2032545, yPred: -1.1316289\n",
      "xReal: [[-0.49544206, 0.13086434, 0.60129535, -0.065898895]], yReal: 0.22851822, yPred: 0.26575664\n",
      "xReal: [[0.9223803, 0.35051495, 0.29407024, -0.5817871]], yReal: 1.2168256, yPred: 1.2909544\n",
      "xReal: [[0.8981056, 0.15984039, 0.1665691, -0.89763105]], yReal: 1.7793331, yPred: 1.7424562\n",
      "xReal: [[0.8248867, 0.40309638, 0.45294654, -0.309989]], yReal: 1.035343, yPred: 1.0721917\n",
      "xReal: [[-0.6368651, 0.030946419, -0.45119378, 0.416797]], yReal: -1.7291089, yPred: -1.7195714\n",
      "xReal: [[-0.712881, -0.03529939, -0.10757437, 0.4645472]], yReal: -1.2428377, yPred: -1.198497\n",
      "xReal: [[0.58320254, -0.94540805, 0.73669124, 0.09275828]], yReal: 3.5340264, yPred: 3.467336\n",
      "xReal: [[-0.04119821, -0.4440477, 0.046807833, 0.6426335]], yReal: 0.32889515, yPred: 0.3218669\n",
      "xReal: [[0.6328742, -0.10947952, -0.62790376, -0.5051989]], yReal: 0.39300472, yPred: 0.43166575\n",
      "xReal: [[0.046211243, 0.40984687, -0.25514823, -0.5109912]], yReal: -0.65344334, yPred: -0.5899848\n",
      "xReal: [[0.47048953, -0.089052156, 0.50640273, -0.60635084]], yReal: 2.0225658, yPred: 2.0261886\n",
      "xReal: [[-0.8422475, 0.48466668, 0.3269891, -0.2221927]], yReal: -1.0297648, yPred: -1.0244098\n",
      "xReal: [[-0.3558472, 0.09464625, -0.66962713, -0.49993584]], yReal: -1.0568458, yPred: -1.0174887\n",
      "xReal: [[-0.16086477, 0.82760143, -0.2052197, -0.7694883]], yReal: -1.3897226, yPred: -1.2803493\n",
      "xReal: [[0.0790215, -0.64027584, 0.31365982, 0.6713019]], yReal: 1.1942257, yPred: 1.1923413\n",
      "xReal: [[0.76146424, -0.61925966, 0.4772036, -0.85498136]], yReal: 3.5963907, yPred: 3.529673\n",
      "xReal: [[0.29259494, 0.09414723, 0.3781048, 0.7160616]], yReal: 0.06844905, yPred: 0.047159936\n",
      "xReal: [[0.98096454, -0.8751358, 0.9758062, -0.97478086]], yReal: 5.148761, yPred: 5.1026073\n",
      "xReal: [[0.6166711, 0.6546147, 0.6722427, -0.06730518]], yReal: 0.43794885, yPred: 0.47819355\n",
      "xReal: [[0.8388229, 0.9758593, -0.9274369, 0.1317289]], yReal: -2.604552, yPred: -2.504362\n",
      "xReal: [[0.25202498, -0.8845247, 0.5647175, 0.8708657]], yReal: 2.0549202, yPred: 2.0219586\n",
      "xReal: [[0.39255047, 0.8059055, -0.4626063, 0.36076587]], yReal: -2.1745899, yPred: -2.1446662\n",
      "xReal: [[-0.3001782, -0.54536486, -0.9176927, 0.7823045]], yReal: -1.2864201, yPred: -1.3205774\n",
      "xReal: [[0.6842934, -0.5759508, -0.1741486, -0.8631652]], yReal: 2.456439, yPred: 2.4006748\n",
      "xReal: [[0.9188969, 0.4109125, 0.014099467, -0.06908685]], yReal: 0.22949655, yPred: 0.26455495\n",
      "xReal: [[0.4542019, 0.25235796, -0.53856194, -0.19879784]], yReal: -0.62285495, yPred: -0.6003277\n",
      "xReal: [[-0.37901834, -0.7038604, -0.7175904, -0.33723116]], yReal: 0.27557257, yPred: 0.2690179\n",
      "xReal: [[0.67042077, 0.25386402, 0.08586627, 0.88553476]], yReal: -0.45525104, yPred: -0.48122248\n",
      "xReal: [[0.6257059, -0.14655028, 0.5456816, 0.79507583]], yReal: 1.0424316, yPred: 1.0194901\n",
      "xReal: [[0.59174633, 0.94440436, 0.25850767, 0.41969392]], yReal: -1.2852094, yPred: -1.1870241\n",
      "xReal: [[0.20392965, -0.35776424, -0.33337715, -0.22660264]], yReal: 0.7310804, yPred: 0.6570427\n",
      "xReal: [[-0.8811353, 0.058141634, 0.6995515, -0.5616218]], yReal: 0.62777954, yPred: 0.6381204\n",
      "xReal: [[0.36507475, 0.25887135, 0.035235044, -0.28992814]], yReal: 0.19195826, yPred: 0.24460247\n",
      "xReal: [[-0.6251217, -0.9831977, -0.30735257, 0.32452688]], yReal: 0.59459233, yPred: 0.54641914\n",
      "xReal: [[0.57203716, -0.56955165, -0.7026033, -0.18211605]], yReal: 0.8516937, yPred: 0.8369842\n",
      "xReal: [[0.5917808, -0.35369164, 0.5538838, -0.47217223]], yReal: 2.6686466, yPred: 2.6003017\n",
      "xReal: [[-0.4982758, -0.50136393, 0.037699725, 0.6729063]], yReal: -0.069785036, yPred: -0.067453355\n",
      "xReal: [[0.7725606, -0.29627332, 0.2272532, 0.004142377]], yReal: 1.801494, yPred: 1.7285678\n",
      "xReal: [[0.22103153, 0.8296008, -0.6840242, 0.1480966]], yReal: -2.5468788, yPred: -2.4916263\n",
      "xReal: [[0.3925603, -0.8580757, 0.9110501, -0.82647383]], yReal: 4.28289, yPred: 4.243303\n",
      "xReal: [[-0.45976308, -0.7897799, 0.8245661, 0.9188891]], yReal: 1.5496179, yPred: 1.4716015\n",
      "xReal: [[-0.013812567, -0.28945538, 0.6189506, -0.4023367]], yReal: 1.8924925, yPred: 1.9021841\n",
      "xReal: [[0.20572236, 0.12561506, -0.41462916, 0.39143977]], yReal: -0.95024127, yPred: -0.98003674\n",
      "xReal: [[-0.12683494, 0.6408097, 0.8005192, -0.4701756]], yReal: 0.26672712, yPred: 0.3361067\n",
      "xReal: [[0.99949384, 0.3072431, -0.12582728, -0.6072347]], yReal: 0.85087633, yPred: 0.8461485\n",
      "xReal: [[-0.9916534, -0.55452186, 0.069989786, -0.130119]], yReal: 0.39830697, yPred: 0.35264748\n",
      "xReal: [[0.30460948, 0.6609806, 0.7971022, -0.15389176]], yReal: 0.3290168, yPred: 0.42322692\n"
     ]
    }
   ],
   "source": [
    "repeat(100) { id ->\n",
    "    val xReal = test.getX(id)\n",
    "    val yReal = test.getY(id)\n",
    "    val yPred = model.predictSoftly(xReal)\n",
    "\n",
    "    println(\"xReal: ${arrayOf(xReal).contentDeepToString()}, yReal: $yReal, yPred: ${yPred[0]}\")\n",
    "}"
   ]
  },
  {
   "cell_type": "code",
   "execution_count": 20,
   "id": "026a1f52-627c-42ff-bace-d8886a52da2a",
   "metadata": {},
   "outputs": [
    {
     "name": "stdout",
     "output_type": "stream",
     "text": [
      "Weights: [[1.0002059], [-1.9237784], [1.4988353], [-0.9500553]]\n",
      "Bias: [0.049204376]\n",
      "MAE: 0.0431436188519001\n"
     ]
    }
   ],
   "source": [
    "val mae = model.evaluate(dataset = test, batchSize = TEST_BATCH_SIZE).metrics[Metrics.MAE]\n",
    "println(\"Weights: \" + model.getLayer(\"dense_2\").weights[\"dense_2_dense_kernel\"].contentDeepToString())\n",
    "println(\"Bias: \" + model.getLayer(\"dense_2\").weights[\"dense_2_dense_bias\"].contentDeepToString())\n",
    "println(\"MAE: $mae\")"
   ]
  },
  {
   "cell_type": "code",
   "execution_count": 22,
   "id": "38e0805e-a8e3-4d9f-b9eb-dddcee18de51",
   "metadata": {},
   "outputs": [
    {
     "name": "stdout",
     "output_type": "stream",
     "text": [
      "xReal: 0.5539668, yReal: 3.3727727, yPred: 3.2869294\n",
      "xReal: 0.35120124, yReal: 2.2710063, yPred: 2.2638047\n",
      "xReal: 0.73524225, yReal: 1.3489411, yPred: 1.317679\n",
      "xReal: 0.77088237, yReal: 0.23058084, yPred: 0.23685409\n",
      "xReal: -0.83985275, yReal: -3.006621, yPred: -2.95868\n",
      "xReal: -0.9319623, yReal: -1.3023514, yPred: -1.2610584\n",
      "xReal: 0.5114596, yReal: -0.80048424, yPred: -0.7563286\n",
      "xReal: 0.71694493, yReal: -0.12234519, yPred: -0.12916163\n",
      "xReal: -0.7549203, yReal: -0.21595323, yPred: -0.27823496\n",
      "xReal: -0.22682856, yReal: -0.3647471, yPred: -0.3660003\n",
      "xReal: -0.16958275, yReal: 1.0733652, yPred: 1.0101429\n",
      "xReal: 0.55107397, yReal: -1.7156777, yPred: -1.6024302\n",
      "xReal: -0.7413579, yReal: -2.8416684, yPred: -2.7721114\n",
      "xReal: 0.040725425, yReal: -1.2625089, yPred: -1.271391\n",
      "xReal: -0.114923686, yReal: -2.1096516, yPred: -2.0675976\n",
      "xReal: -0.02724215, yReal: 1.4294659, yPred: 1.4000248\n",
      "xReal: -0.38675752, yReal: 0.0931997, yPred: 0.016450945\n",
      "xReal: -0.48338443, yReal: -0.9821144, yPred: -0.99299014\n",
      "xReal: -0.83383644, yReal: -0.23748063, yPred: -0.26359114\n",
      "xReal: 0.45535254, yReal: 1.9514494, yPred: 1.9326667\n",
      "xReal: 0.9300605, yReal: 1.689115, yPred: 1.6345193\n",
      "xReal: 0.99374145, yReal: -0.8023093, yPred: -0.7042347\n",
      "xReal: 0.4180884, yReal: 0.8536958, yPred: 0.78338975\n",
      "xReal: -0.33712414, yReal: 0.34043157, yPred: 0.29540008\n",
      "xReal: 0.8165555, yReal: 1.117272, yPred: 1.1959295\n",
      "xReal: -0.5032145, yReal: -0.41727573, yPred: -0.45404968\n",
      "xReal: 0.48166013, yReal: 1.2877318, yPred: 1.257483\n",
      "xReal: -0.23498462, yReal: -0.8516231, yPred: -0.8840317\n",
      "xReal: -0.31343645, yReal: -1.5261366, yPred: -1.4450421\n",
      "xReal: 0.3117504, yReal: -1.5507317, yPred: -1.5397792\n",
      "xReal: 0.16959436, yReal: -2.0644777, yPred: -1.9927845\n",
      "xReal: -0.2900524, yReal: -3.3404434, yPred: -3.3146017\n",
      "xReal: -0.5021038, yReal: -2.38949, yPred: -2.3208835\n",
      "xReal: 0.74934906, yReal: 0.7731964, yPred: 0.76763546\n",
      "xReal: -0.44562852, yReal: 0.6277747, yPred: 0.5914644\n",
      "xReal: 0.8718472, yReal: 1.4315501, yPred: 1.4712765\n",
      "xReal: 0.062482312, yReal: 1.0044018, yPred: 0.9400623\n",
      "xReal: 0.98123515, yReal: 1.1530268, yPred: 1.1018751\n",
      "xReal: 0.63971525, yReal: -0.620396, yPred: -0.5200116\n",
      "xReal: 0.6294824, yReal: -0.07721994, yPred: -0.10246691\n",
      "xReal: 0.9734435, yReal: 0.1505106, yPred: 0.13969675\n",
      "xReal: -0.30228084, yReal: -0.71664935, yPred: -0.6871974\n",
      "xReal: -0.62507117, yReal: -2.4398103, yPred: -2.4690835\n",
      "xReal: -0.3947088, yReal: -3.340797, yPred: -3.234726\n",
      "xReal: 0.39209998, yReal: -0.14594956, yPred: -0.121258885\n",
      "xReal: -0.4170863, yReal: 0.09758042, yPred: 0.11931023\n",
      "xReal: -0.035751965, yReal: 2.255976, yPred: 2.2364278\n",
      "xReal: -0.5661118, yReal: -1.4251038, yPred: -1.341115\n",
      "xReal: 0.7595308, yReal: -2.4276257, yPred: -2.3507743\n",
      "xReal: -0.99579644, yReal: -0.9687499, yPred: -0.98748136\n",
      "xReal: 0.80612737, yReal: -0.6025042, yPred: -0.53423816\n",
      "xReal: 0.35205087, yReal: 1.0459691, yPred: 1.0822635\n",
      "xReal: -0.5142884, yReal: -1.2032545, yPred: -1.1316289\n",
      "xReal: -0.49544206, yReal: 0.22851822, yPred: 0.26575664\n",
      "xReal: 0.9223803, yReal: 1.2168256, yPred: 1.2909544\n",
      "xReal: 0.8981056, yReal: 1.7793331, yPred: 1.7424562\n",
      "xReal: 0.8248867, yReal: 1.035343, yPred: 1.0721917\n",
      "xReal: -0.6368651, yReal: -1.7291089, yPred: -1.7195714\n",
      "xReal: -0.712881, yReal: -1.2428377, yPred: -1.198497\n",
      "xReal: 0.58320254, yReal: 3.5340264, yPred: 3.467336\n",
      "xReal: -0.04119821, yReal: 0.32889515, yPred: 0.3218669\n",
      "xReal: 0.6328742, yReal: 0.39300472, yPred: 0.43166575\n",
      "xReal: 0.046211243, yReal: -0.65344334, yPred: -0.5899848\n",
      "xReal: 0.47048953, yReal: 2.0225658, yPred: 2.0261886\n",
      "xReal: -0.8422475, yReal: -1.0297648, yPred: -1.0244098\n",
      "xReal: -0.3558472, yReal: -1.0568458, yPred: -1.0174887\n",
      "xReal: -0.16086477, yReal: -1.3897226, yPred: -1.2803493\n",
      "xReal: 0.0790215, yReal: 1.1942257, yPred: 1.1923413\n",
      "xReal: 0.76146424, yReal: 3.5963907, yPred: 3.529673\n",
      "xReal: 0.29259494, yReal: 0.06844905, yPred: 0.047159936\n",
      "xReal: 0.98096454, yReal: 5.148761, yPred: 5.1026073\n",
      "xReal: 0.6166711, yReal: 0.43794885, yPred: 0.47819355\n",
      "xReal: 0.8388229, yReal: -2.604552, yPred: -2.504362\n",
      "xReal: 0.25202498, yReal: 2.0549202, yPred: 2.0219586\n",
      "xReal: 0.39255047, yReal: -2.1745899, yPred: -2.1446662\n",
      "xReal: -0.3001782, yReal: -1.2864201, yPred: -1.3205774\n",
      "xReal: 0.6842934, yReal: 2.456439, yPred: 2.4006748\n",
      "xReal: 0.9188969, yReal: 0.22949655, yPred: 0.26455495\n",
      "xReal: 0.4542019, yReal: -0.62285495, yPred: -0.6003277\n",
      "xReal: -0.37901834, yReal: 0.27557257, yPred: 0.2690179\n",
      "xReal: 0.67042077, yReal: -0.45525104, yPred: -0.48122248\n",
      "xReal: 0.6257059, yReal: 1.0424316, yPred: 1.0194901\n",
      "xReal: 0.59174633, yReal: -1.2852094, yPred: -1.1870241\n",
      "xReal: 0.20392965, yReal: 0.7310804, yPred: 0.6570427\n",
      "xReal: -0.8811353, yReal: 0.62777954, yPred: 0.6381204\n",
      "xReal: 0.36507475, yReal: 0.19195826, yPred: 0.24460247\n",
      "xReal: -0.6251217, yReal: 0.59459233, yPred: 0.54641914\n",
      "xReal: 0.57203716, yReal: 0.8516937, yPred: 0.8369842\n",
      "xReal: 0.5917808, yReal: 2.6686466, yPred: 2.6003017\n",
      "xReal: -0.4982758, yReal: -0.069785036, yPred: -0.067453355\n",
      "xReal: 0.7725606, yReal: 1.801494, yPred: 1.7285678\n",
      "xReal: 0.22103153, yReal: -2.5468788, yPred: -2.4916263\n",
      "xReal: 0.3925603, yReal: 4.28289, yPred: 4.243303\n",
      "xReal: -0.45976308, yReal: 1.5496179, yPred: 1.4716015\n",
      "xReal: -0.013812567, yReal: 1.8924925, yPred: 1.9021841\n",
      "xReal: 0.20572236, yReal: -0.95024127, yPred: -0.98003674\n",
      "xReal: -0.12683494, yReal: 0.26672712, yPred: 0.3361067\n",
      "xReal: 0.99949384, yReal: 0.85087633, yPred: 0.8461485\n",
      "xReal: -0.9916534, yReal: 0.39830697, yPred: 0.35264748\n",
      "xReal: 0.30460948, yReal: 0.3290168, yPred: 0.42322692\n"
     ]
    }
   ],
   "source": [
    "repeat(100) { id ->\n",
    "    val xReal = test.getX(id)\n",
    "    val yReal = test.getY(id)\n",
    "\n",
    "    val yPred = model.predictSoftly(xReal)\n",
    "\n",
    "    println(\"xReal: ${xReal[0]}, yReal: $yReal, yPred: ${yPred[0]}\")\n",
    "}"
   ]
  },
  {
   "cell_type": "code",
   "execution_count": 23,
   "id": "93210681-8065-4e60-b191-b88da39737c8",
   "metadata": {},
   "outputs": [],
   "source": [
    "model.close()"
   ]
  },
  {
   "cell_type": "code",
   "execution_count": null,
   "id": "31e55114-a7e5-4056-8839-0dd0445e6f15",
   "metadata": {},
   "outputs": [],
   "source": []
  }
 ],
 "metadata": {
  "kernelspec": {
   "display_name": "Kotlin",
   "language": "kotlin",
   "name": "kotlin"
  },
  "language_info": {
   "codemirror_mode": "text/x-kotlin",
   "file_extension": ".kt",
   "mimetype": "text/x-kotlin",
   "name": "kotlin",
   "nbconvert_exporter": "",
   "pygments_lexer": "kotlin",
   "version": "1.6.20-dev-6372"
  }
 },
 "nbformat": 4,
 "nbformat_minor": 5
}