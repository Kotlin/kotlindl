{
 "cells": [
  {
   "cell_type": "code",
   "execution_count": 4,
   "id": "b0877c38-d006-4d73-a19a-f2986b9f9aa7",
   "metadata": {},
   "outputs": [
    {
     "data": {
      "text/html": "   <div id=\"X0XAEs\"></div>\n   <script type=\"text/javascript\" data-lets-plot-script=\"library\">\n       if(!window.letsPlotCallQueue) {\n           window.letsPlotCallQueue = [];\n       }; \n       window.letsPlotCall = function(f) {\n           window.letsPlotCallQueue.push(f);\n       };\n       (function() {\n           var script = document.createElement(\"script\");\n           script.type = \"text/javascript\";\n           script.src = \"https://cdn.jsdelivr.net/gh/JetBrains/lets-plot@v2.2.0/js-package/distr/lets-plot.min.js\";\n           script.onload = function() {\n               window.letsPlotCall = function(f) {f();};\n               window.letsPlotCallQueue.forEach(function(f) {f();});\n               window.letsPlotCallQueue = [];\n               \n               \n           };\n           script.onerror = function(event) {\n               window.letsPlotCall = function(f) {};\n               window.letsPlotCallQueue = [];\n               var div = document.createElement(\"div\");\n               div.style.color = 'darkred';\n               div.textContent = 'Error loading Lets-Plot JS';\n               document.getElementById(\"X0XAEs\").appendChild(div);\n           };\n           var e = document.getElementById(\"X0XAEs\");\n           e.appendChild(script);\n       })();\n   </script>"
     },
     "metadata": {},
     "output_type": "display_data"
    }
   ],
   "source": [
    "%use lets-plot\n",
    "@file:DependsOn(\"org.jetbrains.kotlinx:kotlin-deeplearning-api:0.3.0\")\n",
    "\n",
    "import org.jetbrains.kotlinx.dl.api.core.Sequential\n",
    "import org.jetbrains.kotlinx.dl.api.core.activation.Activations\n",
    "import org.jetbrains.kotlinx.dl.api.core.layer.core.Dense\n",
    "import org.jetbrains.kotlinx.dl.api.core.layer.core.Input\n",
    "import org.jetbrains.kotlinx.dl.api.core.loss.Losses\n",
    "import org.jetbrains.kotlinx.dl.api.core.metric.Metrics\n",
    "import org.jetbrains.kotlinx.dl.api.core.optimizer.Adam\n",
    "import org.jetbrains.kotlinx.dl.api.core.summary.logSummary\n",
    "import org.jetbrains.kotlinx.dl.dataset.OnHeapDataset"
   ]
  },
  {
   "cell_type": "markdown",
   "id": "03560235-9c1b-4bab-82fa-da6ab497b464",
   "metadata": {},
   "source": [
    "A min max scaler\n",
    "Scale our number to a range we want\n",
    "\n",
    "For example\n",
    "\n",
    "Age from 0..100 sclaes to 0..1\n",
    "\n",
    "[13, 56, 23] -> [0.13, 0.56, 0.23]"
   ]
  },
  {
   "cell_type": "code",
   "execution_count": 5,
   "id": "3b4e3743-edc2-4ad4-8bb3-1ab0eed08c6b",
   "metadata": {},
   "outputs": [],
   "source": [
    "fun minMaxScaler(scaling: Pair<IntRange, IntRange>, input: Collection<Int>): List<Float> {\n",
    "    val (original, target) = scaling\n",
    "\n",
    "    val min = original.first\n",
    "    val max = original.last\n",
    "\n",
    "    val inputScale = max - min\n",
    "    val rangeScale = target.last - target.first\n",
    "\n",
    "    return input.map { (((it - min).toFloat() / inputScale) * rangeScale) + target.first }\n",
    "}"
   ]
  },
  {
   "cell_type": "markdown",
   "id": "712d8849-90e3-4aa3-8471-561d0a4f85d3",
   "metadata": {
    "tags": []
   },
   "source": [
    "An experimental drug was tested on individuals from ages 13 ro 100 in a clinical trial\n",
    "\n",
    "The trail had 2100 participants. Half were under 65 years old, half were 65 years or older\n",
    "\n",
    "Around 95% of patients 65 or older experienced side effects.\n",
    "\n",
    "Around 95% of patients under 65 experienced **no** side effects."
   ]
  },
  {
   "cell_type": "code",
   "execution_count": 3,
   "id": "4dc22ec7-79da-44eb-a46d-074c6cff5e3e",
   "metadata": {},
   "outputs": [],
   "source": [
    "data class DataGeneration(\n",
    "    val ages: List<Float>,\n",
    "    val result: List<Int>,\n",
    ")"
   ]
  },
  {
   "cell_type": "code",
   "execution_count": 6,
   "id": "5a50e351-88ea-4375-a618-d3f8603ffc59",
   "metadata": {
    "tags": []
   },
   "outputs": [],
   "source": [
    "fun generateData(): DataGeneration {\n",
    "    val ages = mutableListOf<Int>()\n",
    "    val results = mutableListOf<Int>()\n",
    "\n",
    "    val youngerAge = 13..64\n",
    "    val olderAge = 65..100\n",
    "\n",
    "\n",
    "    repeat(50) {\n",
    "        // 5% of younger individuals who experienced side effects\n",
    "        ages += youngerAge.random()\n",
    "        results += 1\n",
    "\n",
    "        //5% older individuals experienced no side effects\n",
    "        ages += olderAge.random()\n",
    "        results += 0\n",
    "    }\n",
    "\n",
    "\n",
    "    repeat(1000) {\n",
    "        // 95% of younger individuals who did not experience side effects\n",
    "        ages += youngerAge.random()\n",
    "        results += 0\n",
    "\n",
    "        // 95% of older individuals who experienced side effects\n",
    "        ages += olderAge.random()\n",
    "        results += 1\n",
    "    }\n",
    "\n",
    "    // shuffle to remove patterns when generating or ordering data\n",
    "    // create a map and shuffle together\n",
    "    val shuffled = ages.mapIndexed { index, age -> age to results[index] }.shuffled()\n",
    "\n",
    "    return DataGeneration(minMaxScaler(13..100 to 0..1, shuffled.map { it.first }), shuffled.map { it.second })\n",
    "}"
   ]
  },
  {
   "cell_type": "markdown",
   "id": "6a7c466b-7a78-499b-8692-0b9dcfab5a9f",
   "metadata": {},
   "source": [
    "Creating a sequential model\n",
    "\n",
    "The first layer is the input layer, in this case the input is the age, which has only one dimension when it is converted to an array."
   ]
  },
  {
   "cell_type": "code",
   "execution_count": 5,
   "id": "4018c1ac-5dd0-414f-b709-2db0583e73f0",
   "metadata": {},
   "outputs": [],
   "source": [
    "val model = Sequential.of(\n",
    "    Input(1),\n",
    "    Dense(outputSize = 16, activation = Activations.Relu),\n",
    "    Dense(outputSize = 32, activation = Activations.Relu),\n",
    "    // This is the final layer, and it is the output, since our input for experience side effects is 0 or 1 (false or true). It will have a result of array contains two element.\n",
    "    // The first one is possibility of get 0(false, which is possibility of not experiencing side effects), and sencond element is possibility of getting 1(true, which will experience side effects)\n",
    "    Dense(outputSize = 2, activation = Activations.Softmax)\n",
    ")"
   ]
  },
  {
   "cell_type": "markdown",
   "id": "deb8c27e-5b9e-4c5d-8594-d1fbf9d07fe7",
   "metadata": {},
   "source": [
    "Compile model"
   ]
  },
  {
   "cell_type": "code",
   "execution_count": 6,
   "id": "d5ae3279-a02e-40ee-a0a7-6cbf359f769f",
   "metadata": {},
   "outputs": [],
   "source": [
    "model.compile(\n",
    "    optimizer = Adam(learningRate = 0.0001f),\n",
    "    loss = Losses.SOFT_MAX_CROSS_ENTROPY_WITH_LOGITS,\n",
    "    metric = Metrics.ACCURACY,\n",
    ")"
   ]
  },
  {
   "cell_type": "code",
   "execution_count": 7,
   "id": "12d5b03c-ebfb-4732-92e6-519c1bc1797c",
   "metadata": {},
   "outputs": [],
   "source": [
    "// temporary not support, https://github.com/JetBrains/KotlinDL/pull/251\n",
    "model.logSummary()"
   ]
  },
  {
   "cell_type": "code",
   "execution_count": 8,
   "id": "05efc366-9721-413d-bde3-65841799b6fd",
   "metadata": {},
   "outputs": [],
   "source": [
    "val scaling = 13..100 to 0..1"
   ]
  },
  {
   "cell_type": "markdown",
   "id": "724336a0-45de-4f7d-bf84-afad5053209d",
   "metadata": {},
   "source": [
    "Create DataSet from input ages and scale it."
   ]
  },
  {
   "cell_type": "code",
   "execution_count": 9,
   "id": "e780be4e-2be2-4c22-af7e-733791939804",
   "metadata": {},
   "outputs": [],
   "source": [
    "fun createScaledDatasetForTest(vararg ages: Int): OnHeapDataset {\n",
    "    val test = minMaxScaler(scaling, listOf(*ages.toTypedArray()))\n",
    "        .map { floatArrayOf(it) }.toTypedArray()\n",
    "\n",
    "    return OnHeapDataset.create(test, FloatArray(test.size) { 0f })\n",
    "}"
   ]
  },
  {
   "cell_type": "markdown",
   "id": "da8b6c60-232a-4191-8431-29760b21c8b3",
   "metadata": {},
   "source": [
    "This generates random scaled DataSet for testing "
   ]
  },
  {
   "cell_type": "code",
   "execution_count": 7,
   "id": "0a04eb2c-0c28-48d7-abc9-885d7b12c0ea",
   "metadata": {},
   "outputs": [],
   "source": [
    "fun generateDataSet(): OnHeapDataset {\n",
    "    val (ages, result) = generateData()\n",
    "\n",
    "    // this converts all ages to an array\n",
    "    val features = ages.map { floatArrayOf(it) }.toTypedArray()\n",
    "    // this converts result to an array\n",
    "    val label = FloatArray(result.size) { result[it].toFloat() }\n",
    "    return OnHeapDataset.create(features, label)\n",
    "}"
   ]
  },
  {
   "cell_type": "markdown",
   "id": "08939c23-2f95-40e3-92a4-a2910fa2ca42",
   "metadata": {},
   "source": [
    "Start training"
   ]
  },
  {
   "cell_type": "code",
   "execution_count": 11,
   "id": "eb549a5f-60d8-4c6b-9b52-92ee6c330a15",
   "metadata": {},
   "outputs": [
    {
     "data": {
      "text/plain": "org.jetbrains.kotlinx.dl.api.core.history.TrainingHistory@4a31c2ee"
     },
     "execution_count": 11,
     "metadata": {},
     "output_type": "execute_result"
    }
   ],
   "source": [
    "model.fit(\n",
    "    epochs = 30,\n",
    "    trainingDataset = generateDataSet(),\n",
    "    validationDataset = generateDataSet(),\n",
    "    trainBatchSize = 10,\n",
    "    validationBatchSize = 10,\n",
    ")"
   ]
  },
  {
   "cell_type": "code",
   "execution_count": 12,
   "id": "ed81a985-c879-41ad-bf64-c08042cc2f1e",
   "metadata": {},
   "outputs": [
    {
     "data": {
      "text/plain": "Accuracy: 0.9290472269058228"
     },
     "execution_count": 12,
     "metadata": {},
     "output_type": "execute_result"
    }
   ],
   "source": [
    "\"Accuracy: ${model.evaluate(generateDataSet(), batchSize = 10).metrics[Metrics.ACCURACY]}\""
   ]
  },
  {
   "cell_type": "code",
   "execution_count": 13,
   "id": "38b9d06f-cc91-4345-ae33-e418b641a04b",
   "metadata": {},
   "outputs": [],
   "source": [
    "val ages = (13..100).toList().toTypedArray().toIntArray()\n",
    "val testDataSet = createScaledDatasetForTest(*ages)\n",
    "\n",
    "val testResult = model.predictSoftly(testDataSet, 100 - 12)"
   ]
  },
  {
   "cell_type": "code",
   "execution_count": 20,
   "outputs": [
    {
     "data": {
      "text/html": "   <div id=\"u6ssBs\"></div>\n   <script type=\"text/javascript\" data-lets-plot-script=\"plot\">\n       (function() {\n           var plotSpec={\n\"mapping\":{\n\"x\":\"ages\",\n\"y\":\"possibilities\"\n},\n\"data\":{\n\"possibilities\":[26.91204261779785,26.914358139038086,26.917198181152344,26.92055320739746,26.925134658813477,26.93109893798828,26.938264846801758,26.946819305419922,26.95703125,26.969221115112305,26.983774185180664,27.00113868713379,27.02186393737793,27.04659652709961,27.07610511779785,27.11130142211914,27.151691436767578,27.195045471191406,27.24566078186035,27.30474090576172,27.37368392944336,27.454111099243164,27.54790496826172,27.6572322845459,27.78460693359375,27.932920455932617,28.109228134155273,28.326520919799805,28.624305725097656,28.982004165649414,29.410722732543945,29.923168182373047,30.534706115722656,31.261259078979492,32.11924362182617,33.12614059448242,34.2988395690918,35.23667907714844,36.17823791503906,37.2011833190918,38.30632400512695,39.492855072021484,40.758113861083984,42.09734344482422,43.503604888916016,44.967716217041016,46.47847366333008,48.02281188964844,49.58639907836914,51.1540412902832,52.710384368896484,54.240577697753906,55.73081970214844,57.16887283325195,58.544464111328125,59.84945297241211,61.077964782714844,62.22623062133789,63.29252624511719,64.27681732177734,65.18057250976562,66.00640106201172,66.7578125,67.43890380859375,68.05419921875,68.60840606689453,69.1063003540039,69.5525894165039,69.95182037353516,70.30833435058594,70.62620544433594,70.90926361083984,71.1610107421875,71.38468933105469,71.583251953125,71.7593765258789,71.9155044555664,72.05380249023438,72.16999053955078,72.26653289794922,72.34416961669922,72.4112777709961,72.4678955078125,72.51931762695312,72.56661987304688,72.61013793945312,72.65016174316406,72.68697357177734],\n\"ages\":[13.0,14.0,15.0,16.0,17.0,18.0,19.0,20.0,21.0,22.0,23.0,24.0,25.0,26.0,27.0,28.0,29.0,30.0,31.0,32.0,33.0,34.0,35.0,36.0,37.0,38.0,39.0,40.0,41.0,42.0,43.0,44.0,45.0,46.0,47.0,48.0,49.0,50.0,51.0,52.0,53.0,54.0,55.0,56.0,57.0,58.0,59.0,60.0,61.0,62.0,63.0,64.0,65.0,66.0,67.0,68.0,69.0,70.0,71.0,72.0,73.0,74.0,75.0,76.0,77.0,78.0,79.0,80.0,81.0,82.0,83.0,84.0,85.0,86.0,87.0,88.0,89.0,90.0,91.0,92.0,93.0,94.0,95.0,96.0,97.0,98.0,99.0,100.0]\n},\n\"kind\":\"plot\",\n\"scales\":[{\n\"aesthetic\":\"x\",\n\"name\":\"Age (13 - 100)\"\n},{\n\"aesthetic\":\"y\",\n\"name\":\"possibilities (%)\"\n}],\n\"layers\":[{\n\"mapping\":{\n},\n\"stat\":\"identity\",\n\"position\":\"identity\",\n\"geom\":\"line\",\n\"data\":{\n}\n}]\n};\n           var plotContainer = document.getElementById(\"u6ssBs\");\n           window.letsPlotCall(function() {{\n               LetsPlot.buildPlotFromProcessedSpecs(plotSpec, -1, -1, plotContainer);\n           }});\n       })();    \n   </script>"
     },
     "execution_count": 20,
     "metadata": {},
     "output_type": "execute_result"
    }
   ],
   "source": [
    "val testResultData = mapOf(\n",
    "    \"ages\" to ages.toList(),\n",
    "    \"possibilities\" to testResult.map { it[1] * 100 }\n",
    ")\n",
    "\n",
    "letsPlot(testResultData) {\n",
    "    x = \"ages\"\n",
    "    y = \"possibilities\"\n",
    "} +\n",
    "geomLine() +\n",
    "xlab(\"Age (13 - 100)\") +\n",
    "ylab(\"possibilities (%)\")"
   ],
   "metadata": {
    "collapsed": false,
    "pycharm": {
     "name": "#%%\n"
    }
   }
  },
  {
   "cell_type": "markdown",
   "id": "2cfe095a-082e-4231-9d41-e81e91cb2cc2",
   "metadata": {},
   "source": [
    "this is the result                                                                            \n",
    "the first element in returned array is the possibility of not experiencing side effect        \n",
    "the second element is the possibility of experiencing side effect"
   ]
  },
  {
   "cell_type": "markdown",
   "id": "cedcfe46-d0d0-4a09-91eb-ce47b918cfac",
   "metadata": {},
   "source": [
    "for older people, we expect have higher possibility on experiencing side effect               \n",
    "second element > first element"
   ]
  },
  {
   "cell_type": "code",
   "execution_count": 17,
   "id": "5d767f81-b562-479b-a0aa-3f5cad8e5eb4",
   "metadata": {},
   "outputs": [
    {
     "name": "stdout",
     "output_type": "stream",
     "text": [
      "[0.33242196, 0.66757804]\r\n"
     ]
    }
   ],
   "source": [
    " val predictOlderResult = model.predictSoftly(createScaledDatasetForTest(75), 1)[0]\n",
    "println(predictOlderResult.contentToString())\n",
    "check(predictOlderResult[1] > predictOlderResult[0]) { \"Older people have lower possibility on experiencing side effect, it is not expected.\" }"
   ]
  },
  {
   "cell_type": "markdown",
   "id": "e136bb38-c85a-4048-88b1-f2fb48139235",
   "metadata": {},
   "source": [
    "and for younger people, we expect have lower possibility on experiencing side effect                               \n",
    "first element > second element"
   ]
  },
  {
   "cell_type": "code",
   "execution_count": 18,
   "id": "79e676b8-fb68-454b-b45b-dfcd8f7c12e2",
   "metadata": {},
   "outputs": [
    {
     "name": "stdout",
     "output_type": "stream",
     "text": [
      "[0.724521, 0.27547905]\r\n"
     ]
    }
   ],
   "source": [
    "val predictYoungerResult = model.predictSoftly(createScaledDatasetForTest(35), 1)[0]\n",
    "println(predictYoungerResult.contentToString())\n",
    "check(predictYoungerResult[0] > predictYoungerResult[1]) { \"Younger people have higher possibility on experiencing side effect, it is not expected.\" }"
   ]
  },
  {
   "cell_type": "code",
   "execution_count": 19,
   "id": "8f957704-b411-4b7e-8b6e-3dc539171215",
   "metadata": {},
   "outputs": [],
   "source": [
    "model.close()"
   ]
  },
  {
   "cell_type": "code",
   "execution_count": null,
   "outputs": [],
   "source": [
    "testResult.contentDeepToString()"
   ],
   "metadata": {
    "collapsed": false,
    "pycharm": {
     "name": "#%%\n",
     "is_executing": true
    }
   }
  }
 ],
 "metadata": {
  "kernelspec": {
   "display_name": "Kotlin",
   "language": "kotlin",
   "name": "kotlin"
  },
  "language_info": {
   "codemirror_mode": "text/x-kotlin",
   "file_extension": ".kt",
   "mimetype": "text/x-kotlin",
   "name": "kotlin",
   "nbconvert_exporter": "",
   "pygments_lexer": "kotlin",
   "version": "1.6.20-dev-6372"
  }
 },
 "nbformat": 4,
 "nbformat_minor": 5
}