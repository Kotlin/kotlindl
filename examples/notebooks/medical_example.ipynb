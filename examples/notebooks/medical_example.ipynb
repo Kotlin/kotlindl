{
 "cells": [
  {
   "cell_type": "code",
   "execution_count": 1,
   "id": "b0877c38-d006-4d73-a19a-f2986b9f9aa7",
   "metadata": {},
   "outputs": [],
   "source": [
    "@file:DependsOn(\"org.jetbrains.kotlinx:kotlin-deeplearning-api:0.3.0\")\n",
    "\n",
    "import org.jetbrains.kotlinx.dl.api.core.Sequential\n",
    "import org.jetbrains.kotlinx.dl.api.core.activation.Activations\n",
    "import org.jetbrains.kotlinx.dl.api.core.layer.core.Dense\n",
    "import org.jetbrains.kotlinx.dl.api.core.layer.core.Input\n",
    "import org.jetbrains.kotlinx.dl.api.core.loss.Losses\n",
    "import org.jetbrains.kotlinx.dl.api.core.metric.Metrics\n",
    "import org.jetbrains.kotlinx.dl.api.core.optimizer.Adam\n",
    "import org.jetbrains.kotlinx.dl.api.core.summary.logSummary\n",
    "import org.jetbrains.kotlinx.dl.dataset.OnHeapDataset"
   ]
  },
  {
   "cell_type": "markdown",
   "id": "03560235-9c1b-4bab-82fa-da6ab497b464",
   "metadata": {},
   "source": [
    "A min max scaler\n",
    "Scale our number to a range we want\n",
    "\n",
    "For example\n",
    "\n",
    "Age from 0..100 sclaes to 0..1\n",
    "\n",
    "[13, 56, 23] -> [0.13, 0.56, 0.23]"
   ]
  },
  {
   "cell_type": "code",
   "execution_count": 2,
   "id": "3b4e3743-edc2-4ad4-8bb3-1ab0eed08c6b",
   "metadata": {},
   "outputs": [],
   "source": [
    "fun minMaxScaler(scaling: Pair<IntRange, IntRange>, input: Collection<Int>): List<Float> {\n",
    "    val (original, target) = scaling\n",
    "\n",
    "    val min = original.first\n",
    "    val max = original.last\n",
    "\n",
    "    val inputScale = max - min\n",
    "    val rangeScale = target.last - target.first\n",
    "\n",
    "    return input.map { (((it - min).toFloat() / inputScale) * rangeScale) + target.first }\n",
    "}"
   ]
  },
  {
   "cell_type": "markdown",
   "id": "712d8849-90e3-4aa3-8471-561d0a4f85d3",
   "metadata": {
    "tags": []
   },
   "source": [
    "An experimental drug was tested on individuals from ages 13 ro 100 in a clinical trial\n",
    "\n",
    "The trail had 2100 participants. Half were under 65 years old, half were 65 years or older\n",
    "\n",
    "Around 95% of patients 65 or older experienced side effects.\n",
    "\n",
    "Around 95% of patients under 65 experienced **no** side effects."
   ]
  },
  {
   "cell_type": "code",
   "execution_count": 3,
   "id": "4dc22ec7-79da-44eb-a46d-074c6cff5e3e",
   "metadata": {},
   "outputs": [],
   "source": [
    "data class DataGeneration(\n",
    "    val ages: List<Float>,\n",
    "    val result: List<Int>,\n",
    ")"
   ]
  },
  {
   "cell_type": "code",
   "execution_count": 4,
   "id": "5a50e351-88ea-4375-a618-d3f8603ffc59",
   "metadata": {
    "tags": []
   },
   "outputs": [],
   "source": [
    "fun generateData(): DataGeneration {\n",
    "    val ages = mutableListOf<Int>()\n",
    "    val results = mutableListOf<Int>()\n",
    "\n",
    "    val youngerAge = 13..64\n",
    "    val olderAge = 65..100\n",
    "\n",
    "\n",
    "    repeat(50) {\n",
    "        // 5% of younger individuals who experienced side effects\n",
    "        ages += youngerAge.random()\n",
    "        results += 1\n",
    "\n",
    "        //5% older individuals experienced no side effects\n",
    "        ages += olderAge.random()\n",
    "        results += 0\n",
    "    }\n",
    "\n",
    "\n",
    "    repeat(1000) {\n",
    "        // 95% of younger individuals who did not experience side effects\n",
    "        ages += youngerAge.random()\n",
    "        results += 0\n",
    "\n",
    "        // 95% of older individuals who experienced side effects\n",
    "        ages += olderAge.random()\n",
    "        results += 1\n",
    "    }\n",
    "\n",
    "    // shuffle to remove patterns when generating or ordering data\n",
    "    // create a map and shuffle together\n",
    "    val shuffled = ages.mapIndexed { index, age -> age to results[index] }.shuffled()\n",
    "\n",
    "    return DataGeneration(minMaxScaler(13..100 to 0..1, shuffled.map { it.first }), shuffled.map { it.second })\n",
    "}"
   ]
  },
  {
   "cell_type": "markdown",
   "id": "6a7c466b-7a78-499b-8692-0b9dcfab5a9f",
   "metadata": {},
   "source": [
    "Creating a sequential model\n",
    "\n",
    "The first layer is the input layer, in this case the input is the age, which has only one dimension when it is converted to an array."
   ]
  },
  {
   "cell_type": "code",
   "execution_count": 5,
   "id": "4018c1ac-5dd0-414f-b709-2db0583e73f0",
   "metadata": {},
   "outputs": [],
   "source": [
    "val model = Sequential.of(\n",
    "    Input(1),\n",
    "    Dense(outputSize = 16, activation = Activations.Relu),\n",
    "    Dense(outputSize = 32, activation = Activations.Relu),\n",
    "    // This is the final layer, and it is the output, since our input for experience side effects is 0 or 1 (false or true). It will have a result of array contains two element.\n",
    "    // The first one is possibility of get 0(false, which is possibility of not experiencing side effects), and sencond element is possibility of getting 1(true, which will experience side effects)\n",
    "    Dense(outputSize = 2, activation = Activations.Softmax)\n",
    ")"
   ]
  },
  {
   "cell_type": "markdown",
   "id": "deb8c27e-5b9e-4c5d-8594-d1fbf9d07fe7",
   "metadata": {},
   "source": [
    "Compile model"
   ]
  },
  {
   "cell_type": "code",
   "execution_count": 6,
   "id": "d5ae3279-a02e-40ee-a0a7-6cbf359f769f",
   "metadata": {},
   "outputs": [],
   "source": [
    "model.compile(\n",
    "    optimizer = Adam(learningRate = 0.0001f),\n",
    "    loss = Losses.SOFT_MAX_CROSS_ENTROPY_WITH_LOGITS,\n",
    "    metric = Metrics.ACCURACY,\n",
    ")"
   ]
  },
  {
   "cell_type": "code",
   "execution_count": 8,
   "id": "12d5b03c-ebfb-4732-92e6-519c1bc1797c",
   "metadata": {},
   "outputs": [],
   "source": [
    "// temporary not support, https://github.com/JetBrains/KotlinDL/pull/251\n",
    "model.logSummary()"
   ]
  },
  {
   "cell_type": "code",
   "execution_count": 10,
   "id": "05efc366-9721-413d-bde3-65841799b6fd",
   "metadata": {},
   "outputs": [],
   "source": [
    "val scaling = 13..100 to 0..1"
   ]
  },
  {
   "cell_type": "markdown",
   "id": "724336a0-45de-4f7d-bf84-afad5053209d",
   "metadata": {},
   "source": [
    "Create DataSet from input ages and scale it."
   ]
  },
  {
   "cell_type": "code",
   "execution_count": 13,
   "id": "e780be4e-2be2-4c22-af7e-733791939804",
   "metadata": {},
   "outputs": [],
   "source": [
    "fun createScaledDatasetForTest(vararg ages: Int): OnHeapDataset {\n",
    "    val test = minMaxScaler(scaling, listOf(*ages.toTypedArray()))\n",
    "        .map { floatArrayOf(it) }.toTypedArray()\n",
    "\n",
    "    return OnHeapDataset.create(test, FloatArray(test.size) { 0f })\n",
    "}"
   ]
  },
  {
   "cell_type": "markdown",
   "id": "da8b6c60-232a-4191-8431-29760b21c8b3",
   "metadata": {},
   "source": [
    "This generates random scaled DataSet for testing "
   ]
  },
  {
   "cell_type": "code",
   "execution_count": 31,
   "id": "0a04eb2c-0c28-48d7-abc9-885d7b12c0ea",
   "metadata": {},
   "outputs": [],
   "source": [
    "fun generateDataSet(): OnHeapDataset {\n",
    "    val (ages, result) = generateData()\n",
    "\n",
    "    // this converts all ages to an array\n",
    "    val features = ages.map { floatArrayOf(it) }.toTypedArray()\n",
    "    // this converts result to an array\n",
    "    val label = FloatArray(result.size) { result[it].toFloat() }\n",
    "    return OnHeapDataset.create(features, label)\n",
    "}"
   ]
  },
  {
   "cell_type": "markdown",
   "id": "08939c23-2f95-40e3-92a4-a2910fa2ca42",
   "metadata": {},
   "source": [
    "Start training"
   ]
  },
  {
   "cell_type": "code",
   "execution_count": 17,
   "id": "eb549a5f-60d8-4c6b-9b52-92ee6c330a15",
   "metadata": {},
   "outputs": [
    {
     "data": {
      "text/plain": [
       "org.jetbrains.kotlinx.dl.api.core.history.TrainingHistory@6719a5b8"
      ]
     },
     "execution_count": 17,
     "metadata": {},
     "output_type": "execute_result"
    }
   ],
   "source": [
    "model.fit(\n",
    "        epochs = 30,\n",
    "        trainingDataset = generateDataSet(),\n",
    "        validationDataset = generateDataSet(),\n",
    "        trainBatchSize = 10,\n",
    "        validationBatchSize = 10,\n",
    ")"
   ]
  },
  {
   "cell_type": "code",
   "execution_count": 19,
   "id": "ed81a985-c879-41ad-bf64-c08042cc2f1e",
   "metadata": {},
   "outputs": [],
   "source": [
    "fun evaluate(model: Sequential) {\n",
    "    println(\"Accuracy: ${model.evaluate(generateDataSet(), batchSize = 10).metrics[Metrics.ACCURACY]}\")\n",
    "}"
   ]
  },
  {
   "cell_type": "code",
   "execution_count": 21,
   "id": "584bd65a-b2f5-4e1c-a29e-6f7223f1def0",
   "metadata": {},
   "outputs": [
    {
     "name": "stdout",
     "output_type": "stream",
     "text": [
      "Accuracy: 0.9371426105499268\n"
     ]
    }
   ],
   "source": [
    "evaluate(model)"
   ]
  },
  {
   "cell_type": "code",
   "execution_count": 23,
   "id": "38b9d06f-cc91-4345-ae33-e418b641a04b",
   "metadata": {},
   "outputs": [],
   "source": [
    "val testDataSet = createScaledDatasetForTest(75, 35, 45, 55, 63, 45, 23, 32, 38, 35)"
   ]
  },
  {
   "cell_type": "code",
   "execution_count": 25,
   "id": "0ce084d5-f2ad-4f07-944a-4e19cb870f1d",
   "metadata": {},
   "outputs": [
    {
     "name": "stdout",
     "output_type": "stream",
     "text": [
      "[[0.30628088, 0.6937191], [0.7303169, 0.2696831], [0.72259474, 0.27740523], [0.6353656, 0.36463442], [0.4780286, 0.52197134], [0.72259474, 0.27740523], [0.73101467, 0.26898536], [0.7306809, 0.2693191], [0.7296027, 0.2703973], [0.7303169, 0.2696831]]\n"
     ]
    }
   ],
   "source": [
    "println(model.predictSoftly(testDataSet, 10).contentDeepToString())"
   ]
  },
  {
   "cell_type": "markdown",
   "id": "2cfe095a-082e-4231-9d41-e81e91cb2cc2",
   "metadata": {},
   "source": [
    "this is the result                                                                            \n",
    "the first element in returned array is the possibility of not experiencing side effect        \n",
    "the second element is the possibility of experiencing side effect                                                                                         "
   ]
  },
  {
   "cell_type": "markdown",
   "id": "cedcfe46-d0d0-4a09-91eb-ce47b918cfac",
   "metadata": {},
   "source": [
    "for older people, we expect have higher possibility on experiencing side effect               \n",
    "second element > first element    "
   ]
  },
  {
   "cell_type": "code",
   "execution_count": 27,
   "id": "5d767f81-b562-479b-a0aa-3f5cad8e5eb4",
   "metadata": {},
   "outputs": [
    {
     "name": "stdout",
     "output_type": "stream",
     "text": [
      "[0.30628088, 0.6937191]\n"
     ]
    }
   ],
   "source": [
    " val predictOlderResult = model.predictSoftly(createScaledDatasetForTest(75), 1)[0]\n",
    "println(predictOlderResult.contentToString())\n",
    "check(predictOlderResult[1] > predictOlderResult[0]) { \"Older people have lower possibility on experiencing side effect, it is not expected.\" }"
   ]
  },
  {
   "cell_type": "markdown",
   "id": "e136bb38-c85a-4048-88b1-f2fb48139235",
   "metadata": {},
   "source": [
    "and for younger people, we expect have lower possibility on experiencing side effect                               \n",
    "first element > second element                                                                                     "
   ]
  },
  {
   "cell_type": "code",
   "execution_count": 29,
   "id": "79e676b8-fb68-454b-b45b-dfcd8f7c12e2",
   "metadata": {},
   "outputs": [
    {
     "name": "stdout",
     "output_type": "stream",
     "text": [
      "[0.7303169, 0.2696831]\n"
     ]
    }
   ],
   "source": [
    "val predictYoungerResult = model.predictSoftly(createScaledDatasetForTest(35), 1)[0]\n",
    "println(predictYoungerResult.contentToString())\n",
    "check(predictYoungerResult[0] > predictYoungerResult[1]) { \"Younger people have higher possibility on experiencing side effect, it is not expected.\" }"
   ]
  },
  {
   "cell_type": "code",
   "execution_count": 30,
   "id": "8f957704-b411-4b7e-8b6e-3dc539171215",
   "metadata": {},
   "outputs": [],
   "source": [
    "model.close()"
   ]
  }
 ],
 "metadata": {
  "kernelspec": {
   "display_name": "Kotlin",
   "language": "kotlin",
   "name": "kotlin"
  },
  "language_info": {
   "codemirror_mode": "text/x-kotlin",
   "file_extension": ".kt",
   "mimetype": "text/x-kotlin",
   "name": "kotlin",
   "nbconvert_exporter": "",
   "pygments_lexer": "kotlin",
   "version": "1.6.20-dev-6372"
  }
 },
 "nbformat": 4,
 "nbformat_minor": 5
}