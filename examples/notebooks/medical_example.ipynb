{
 "cells": [
  {
   "cell_type": "code",
   "execution_count": 1,
   "id": "b0877c38-d006-4d73-a19a-f2986b9f9aa7",
   "metadata": {},
   "outputs": [
    {
     "data": {
      "text/html": "   <div id=\"ZOTKwa\"></div>\n   <script type=\"text/javascript\" data-lets-plot-script=\"library\">\n       if(!window.letsPlotCallQueue) {\n           window.letsPlotCallQueue = [];\n       }; \n       window.letsPlotCall = function(f) {\n           window.letsPlotCallQueue.push(f);\n       };\n       (function() {\n           var script = document.createElement(\"script\");\n           script.type = \"text/javascript\";\n           script.src = \"https://cdn.jsdelivr.net/gh/JetBrains/lets-plot@v2.2.0/js-package/distr/lets-plot.min.js\";\n           script.onload = function() {\n               window.letsPlotCall = function(f) {f();};\n               window.letsPlotCallQueue.forEach(function(f) {f();});\n               window.letsPlotCallQueue = [];\n               \n               \n           };\n           script.onerror = function(event) {\n               window.letsPlotCall = function(f) {};\n               window.letsPlotCallQueue = [];\n               var div = document.createElement(\"div\");\n               div.style.color = 'darkred';\n               div.textContent = 'Error loading Lets-Plot JS';\n               document.getElementById(\"ZOTKwa\").appendChild(div);\n           };\n           var e = document.getElementById(\"ZOTKwa\");\n           e.appendChild(script);\n       })();\n   </script>"
     },
     "metadata": {},
     "output_type": "display_data"
    }
   ],
   "source": [
    "%use lets-plot\n",
    "@file:DependsOn(\"org.jetbrains.kotlinx:kotlin-deeplearning-api:0.3.0\")\n",
    "\n",
    "import org.jetbrains.kotlinx.dl.api.core.Sequential\n",
    "import org.jetbrains.kotlinx.dl.api.core.activation.Activations\n",
    "import org.jetbrains.kotlinx.dl.api.core.layer.core.Dense\n",
    "import org.jetbrains.kotlinx.dl.api.core.layer.core.Input\n",
    "import org.jetbrains.kotlinx.dl.api.core.loss.Losses\n",
    "import org.jetbrains.kotlinx.dl.api.core.metric.Metrics\n",
    "import org.jetbrains.kotlinx.dl.api.core.optimizer.Adam\n",
    "import org.jetbrains.kotlinx.dl.api.core.summary.logSummary\n",
    "import org.jetbrains.kotlinx.dl.dataset.OnHeapDataset"
   ]
  },
  {
   "cell_type": "markdown",
   "id": "03560235-9c1b-4bab-82fa-da6ab497b464",
   "metadata": {},
   "source": [
    "A min max scaler\n",
    "Scale our number to a range we want\n",
    "\n",
    "For example\n",
    "\n",
    "Age from 0..100 sclaes to 0..1\n",
    "\n",
    "[13, 56, 23] -> [0.13, 0.56, 0.23]"
   ]
  },
  {
   "cell_type": "code",
   "execution_count": 2,
   "id": "3b4e3743-edc2-4ad4-8bb3-1ab0eed08c6b",
   "metadata": {},
   "outputs": [],
   "source": [
    "fun minMaxScaler(scaling: Pair<IntRange, IntRange>, input: Collection<Int>): List<Float> {\n",
    "    val (original, target) = scaling\n",
    "\n",
    "    val min = original.first\n",
    "    val max = original.last\n",
    "\n",
    "    val inputScale = max - min\n",
    "    val rangeScale = target.last - target.first\n",
    "\n",
    "    return input.map { (((it - min).toFloat() / inputScale) * rangeScale) + target.first }\n",
    "}"
   ]
  },
  {
   "cell_type": "markdown",
   "id": "712d8849-90e3-4aa3-8471-561d0a4f85d3",
   "metadata": {
    "tags": []
   },
   "source": [
    "An experimental drug was tested on individuals from ages 13 ro 100 in a clinical trial\n",
    "\n",
    "The trail had 2100 participants. Half were under 65 years old, half were 65 years or older\n",
    "\n",
    "Around 95% of patients 65 or older experienced side effects.\n",
    "\n",
    "Around 95% of patients under 65 experienced **no** side effects."
   ]
  },
  {
   "cell_type": "code",
   "execution_count": 3,
   "id": "4dc22ec7-79da-44eb-a46d-074c6cff5e3e",
   "metadata": {},
   "outputs": [],
   "source": [
    "data class DataGeneration(\n",
    "    val ages: List<Float>,\n",
    "    val result: List<Int>,\n",
    ")"
   ]
  },
  {
   "cell_type": "code",
   "execution_count": 4,
   "id": "5a50e351-88ea-4375-a618-d3f8603ffc59",
   "metadata": {
    "tags": []
   },
   "outputs": [],
   "source": [
    "fun generateData(): DataGeneration {\n",
    "    val ages = mutableListOf<Int>()\n",
    "    val results = mutableListOf<Int>()\n",
    "\n",
    "    val youngerAge = 13..64\n",
    "    val olderAge = 65..100\n",
    "\n",
    "\n",
    "    repeat(50) {\n",
    "        // 5% of younger individuals who experienced side effects\n",
    "        ages += youngerAge.random()\n",
    "        results += 1\n",
    "\n",
    "        //5% older individuals experienced no side effects\n",
    "        ages += olderAge.random()\n",
    "        results += 0\n",
    "    }\n",
    "\n",
    "\n",
    "    repeat(1000) {\n",
    "        // 95% of younger individuals who did not experience side effects\n",
    "        ages += youngerAge.random()\n",
    "        results += 0\n",
    "\n",
    "        // 95% of older individuals who experienced side effects\n",
    "        ages += olderAge.random()\n",
    "        results += 1\n",
    "    }\n",
    "\n",
    "    // shuffle to remove patterns when generating or ordering data\n",
    "    // create a map and shuffle together\n",
    "    val shuffled = ages.mapIndexed { index, age -> age to results[index] }.shuffled()\n",
    "\n",
    "    return DataGeneration(minMaxScaler(13..100 to 0..1, shuffled.map { it.first }), shuffled.map { it.second })\n",
    "}"
   ]
  },
  {
   "cell_type": "markdown",
   "id": "6a7c466b-7a78-499b-8692-0b9dcfab5a9f",
   "metadata": {},
   "source": [
    "Creating a sequential model\n",
    "\n",
    "The first layer is the input layer, in this case the input is the age, which has only one dimension when it is converted to an array."
   ]
  },
  {
   "cell_type": "code",
   "execution_count": 5,
   "id": "4018c1ac-5dd0-414f-b709-2db0583e73f0",
   "metadata": {},
   "outputs": [],
   "source": [
    "val model = Sequential.of(\n",
    "    Input(1),\n",
    "    Dense(outputSize = 16, activation = Activations.Relu),\n",
    "    Dense(outputSize = 32, activation = Activations.Relu),\n",
    "    // This is the final layer, and it is the output, since our input for experience side effects is 0 or 1 (false or true). It will have a result of array contains two element.\n",
    "    // The first one is possibility of get 0(false, which is possibility of not experiencing side effects), and sencond element is possibility of getting 1(true, which will experience side effects)\n",
    "    Dense(outputSize = 2, activation = Activations.Softmax)\n",
    ")"
   ]
  },
  {
   "cell_type": "markdown",
   "id": "deb8c27e-5b9e-4c5d-8594-d1fbf9d07fe7",
   "metadata": {},
   "source": [
    "Compile model"
   ]
  },
  {
   "cell_type": "code",
   "execution_count": 6,
   "id": "d5ae3279-a02e-40ee-a0a7-6cbf359f769f",
   "metadata": {},
   "outputs": [],
   "source": [
    "model.compile(\n",
    "    optimizer = Adam(learningRate = 0.0001f),\n",
    "    loss = Losses.SOFT_MAX_CROSS_ENTROPY_WITH_LOGITS,\n",
    "    metric = Metrics.ACCURACY,\n",
    ")"
   ]
  },
  {
   "cell_type": "code",
   "execution_count": 7,
   "id": "12d5b03c-ebfb-4732-92e6-519c1bc1797c",
   "metadata": {},
   "outputs": [],
   "source": [
    "// temporary not support, https://github.com/JetBrains/KotlinDL/pull/251\n",
    "model.logSummary()"
   ]
  },
  {
   "cell_type": "code",
   "execution_count": 8,
   "id": "05efc366-9721-413d-bde3-65841799b6fd",
   "metadata": {},
   "outputs": [],
   "source": [
    "val scaling = 13..100 to 0..1"
   ]
  },
  {
   "cell_type": "markdown",
   "id": "724336a0-45de-4f7d-bf84-afad5053209d",
   "metadata": {},
   "source": [
    "Create DataSet from input ages and scale it."
   ]
  },
  {
   "cell_type": "code",
   "execution_count": 9,
   "id": "e780be4e-2be2-4c22-af7e-733791939804",
   "metadata": {},
   "outputs": [],
   "source": [
    "fun createScaledDatasetForTest(vararg ages: Int): OnHeapDataset {\n",
    "    val test = minMaxScaler(scaling, listOf(*ages.toTypedArray()))\n",
    "        .map { floatArrayOf(it) }.toTypedArray()\n",
    "\n",
    "    return OnHeapDataset.create(test, FloatArray(test.size) { 0f })\n",
    "}"
   ]
  },
  {
   "cell_type": "markdown",
   "id": "da8b6c60-232a-4191-8431-29760b21c8b3",
   "metadata": {},
   "source": [
    "This generates random scaled DataSet for testing "
   ]
  },
  {
   "cell_type": "code",
   "execution_count": 10,
   "id": "0a04eb2c-0c28-48d7-abc9-885d7b12c0ea",
   "metadata": {},
   "outputs": [],
   "source": [
    "fun generateDataSet(): OnHeapDataset {\n",
    "    val (ages, result) = generateData()\n",
    "\n",
    "    // this converts all ages to an array\n",
    "    val features = ages.map { floatArrayOf(it) }.toTypedArray()\n",
    "    // this converts result to an array\n",
    "    val label = FloatArray(result.size) { result[it].toFloat() }\n",
    "    return OnHeapDataset.create(features, label)\n",
    "}"
   ]
  },
  {
   "cell_type": "markdown",
   "id": "08939c23-2f95-40e3-92a4-a2910fa2ca42",
   "metadata": {},
   "source": [
    "Start training"
   ]
  },
  {
   "cell_type": "code",
   "execution_count": 11,
   "id": "eb549a5f-60d8-4c6b-9b52-92ee6c330a15",
   "metadata": {},
   "outputs": [
    {
     "data": {
      "text/plain": "org.jetbrains.kotlinx.dl.api.core.history.TrainingHistory@57bd2029"
     },
     "execution_count": 11,
     "metadata": {},
     "output_type": "execute_result"
    }
   ],
   "source": [
    "model.fit(\n",
    "    epochs = 30,\n",
    "    trainingDataset = generateDataSet(),\n",
    "    validationDataset = generateDataSet(),\n",
    "    trainBatchSize = 10,\n",
    "    validationBatchSize = 10,\n",
    ")"
   ]
  },
  {
   "cell_type": "code",
   "execution_count": 12,
   "id": "ed81a985-c879-41ad-bf64-c08042cc2f1e",
   "metadata": {},
   "outputs": [
    {
     "data": {
      "text/plain": "Accuracy: 0.9266662001609802"
     },
     "execution_count": 12,
     "metadata": {},
     "output_type": "execute_result"
    }
   ],
   "source": [
    "\"Accuracy: ${model.evaluate(generateDataSet(), batchSize = 10).metrics[Metrics.ACCURACY]}\""
   ]
  },
  {
   "cell_type": "code",
   "execution_count": 13,
   "id": "38b9d06f-cc91-4345-ae33-e418b641a04b",
   "metadata": {},
   "outputs": [],
   "source": [
    "val ages = (13..100).toList().toTypedArray().toIntArray()\n",
    "val testDataSet = createScaledDatasetForTest(*ages)\n",
    "\n",
    "val testResult = model.predictSoftly(testDataSet, 100 - 12)"
   ]
  },
  {
   "cell_type": "code",
   "execution_count": 14,
   "id": "0ce084d5-f2ad-4f07-944a-4e19cb870f1d",
   "metadata": {},
   "outputs": [
    {
     "data": {
      "text/plain": "[[0.730846, 0.26915395], [0.73081994, 0.26918003], [0.73078775, 0.26921228], [0.73074687, 0.26925313], [0.730693, 0.26930705], [0.7306245, 0.26937556], [0.73054314, 0.26945686], [0.7304466, 0.26955342], [0.73033196, 0.2696681], [0.7301958, 0.26980412], [0.7300343, 0.26996565], [0.7298426, 0.27015743], [0.7296151, 0.27038494], [0.7293451, 0.27065492], [0.7290247, 0.2709753], [0.72864467, 0.27135533], [0.72823733, 0.27176264], [0.7277742, 0.2722258], [0.7272354, 0.27276453], [0.7266088, 0.2733912], [0.72588027, 0.27411973], [0.72503346, 0.27496657], [0.7240495, 0.2759505], [0.7229068, 0.2770932], [0.7215804, 0.27841964], [0.7200416, 0.27995846], [0.71824676, 0.28175327], [0.71602845, 0.2839715], [0.7130849, 0.28691506], [0.709433, 0.29056698], [0.7050696, 0.29493037], [0.6998484, 0.30015156], [0.6936397, 0.3063603], [0.6862916, 0.31370836], [0.6776395, 0.32236058], [0.6675152, 0.33248484], [0.65575755, 0.34424245], [0.6440516, 0.3559484], [0.63452125, 0.36547872], [0.6242046, 0.37579536], [0.6130991, 0.3869009], [0.60121804, 0.39878196], [0.58859265, 0.41140738], [0.5752736, 0.42472637], [0.56133235, 0.4386677], [0.54686075, 0.45313925], [0.53196853, 0.46803138], [0.516782, 0.48321798], [0.5014381, 0.49856195], [0.48608074, 0.51391923], [0.470854, 0.529146], [0.4558968, 0.5441032], [0.4413375, 0.5586625], [0.42728958, 0.57271045], [0.41384822, 0.5861518], [0.40108842, 0.5989116], [0.38906506, 0.6109349], [0.37781307, 0.62218696], [0.36734846, 0.63265157], [0.35767192, 0.6423281], [0.34876996, 0.6512301], [0.34061864, 0.6593814], [0.33318546, 0.6668145], [0.32643217, 0.67356783], [0.32031652, 0.6796835], [0.31479442, 0.68520564], [0.30982083, 0.6901792], [0.30535135, 0.6946487], [0.30134273, 0.69865733], [0.2977537, 0.70224637], [0.29454514, 0.7054549], [0.29168057, 0.7083194], [0.2891261, 0.7108739], [0.28685042, 0.7131495], [0.28482503, 0.715175], [0.2830237, 0.7169763], [0.28142276, 0.7185772], [0.28000084, 0.71999913], [0.27873987, 0.72126013], [0.2777326, 0.7222673], [0.2768574, 0.72314256], [0.27615663, 0.7238434], [0.2755414, 0.72445863], [0.2750164, 0.72498363], [0.2745328, 0.7254672], [0.27408743, 0.7259126], [0.27367732, 0.7263227], [0.27329966, 0.72670037]]"
     },
     "execution_count": 14,
     "metadata": {},
     "output_type": "execute_result"
    }
   ],
   "source": [
    "testResult.contentDeepToString()"
   ]
  },
  {
   "cell_type": "code",
   "execution_count": 15,
   "outputs": [],
   "source": [
    "val testResultData = mapOf(\n",
    "    \"ages\" to ages.toList(),\n",
    "    \"possibilities\" to testResult.map { it[1] * 100 }\n",
    ")"
   ],
   "metadata": {
    "collapsed": false,
    "pycharm": {
     "name": "#%%\n"
    }
   }
  },
  {
   "cell_type": "code",
   "execution_count": 16,
   "outputs": [
    {
     "data": {
      "text/html": "   <div id=\"tfSXHE\"></div>\n   <script type=\"text/javascript\" data-lets-plot-script=\"plot\">\n       (function() {\n           var plotSpec={\n\"mapping\":{\n\"x\":\"ages\",\n\"y\":\"possibilities\"\n},\n\"data\":{\n\"possibilities\":[26.915395736694336,26.91800308227539,26.921228408813477,26.92531394958496,26.93070411682129,26.937557220458984,26.94568634033203,26.955341339111328,26.96681022644043,26.980411529541016,26.996564865112305,27.015743255615234,27.038494110107422,27.06549072265625,27.0975284576416,27.13553237915039,27.1762638092041,27.222579956054688,27.276453018188477,27.33911895751953,27.41197395324707,27.49665641784668,27.595048904418945,27.709320068359375,27.841964721679688,27.995845794677734,28.17532730102539,28.39714813232422,28.691505432128906,29.056697845458984,29.4930362701416,30.015155792236328,30.636030197143555,31.37083625793457,32.23605728149414,33.24848556518555,34.42424392700195,35.5948371887207,36.54787063598633,37.57953643798828,38.69009017944336,39.878196716308594,41.14073944091797,42.47263717651367,43.86677169799805,45.31392288208008,46.803138732910156,48.321800231933594,49.85619354248047,51.39192199707031,52.91460037231445,54.41032028198242,55.866249084472656,57.27104568481445,58.615177154541016,59.89115905761719,61.09349060058594,62.21869659423828,63.26515579223633,64.2328109741211,65.12300872802734,65.93814086914062,66.68144989013672,67.35678100585938,67.96835327148438,68.52056121826172,69.0179214477539,69.4648666381836,69.86573028564453,70.22463989257812,70.54548645019531,70.83193969726562,71.08738708496094,71.31494903564453,71.51749420166016,71.6976318359375,71.85771942138672,71.99991607666016,72.12601470947266,72.22673034667969,72.31425476074219,72.38433837890625,72.44586181640625,72.49835968017578,72.54672241210938,72.59125518798828,72.63227081298828,72.67003631591797],\n\"ages\":[13.0,14.0,15.0,16.0,17.0,18.0,19.0,20.0,21.0,22.0,23.0,24.0,25.0,26.0,27.0,28.0,29.0,30.0,31.0,32.0,33.0,34.0,35.0,36.0,37.0,38.0,39.0,40.0,41.0,42.0,43.0,44.0,45.0,46.0,47.0,48.0,49.0,50.0,51.0,52.0,53.0,54.0,55.0,56.0,57.0,58.0,59.0,60.0,61.0,62.0,63.0,64.0,65.0,66.0,67.0,68.0,69.0,70.0,71.0,72.0,73.0,74.0,75.0,76.0,77.0,78.0,79.0,80.0,81.0,82.0,83.0,84.0,85.0,86.0,87.0,88.0,89.0,90.0,91.0,92.0,93.0,94.0,95.0,96.0,97.0,98.0,99.0,100.0]\n},\n\"kind\":\"plot\",\n\"scales\":[{\n\"aesthetic\":\"x\",\n\"name\":\"Age (13 - 100)\"\n},{\n\"aesthetic\":\"y\",\n\"name\":\"possibilities (%)\"\n}],\n\"layers\":[{\n\"mapping\":{\n},\n\"stat\":\"identity\",\n\"position\":\"identity\",\n\"geom\":\"line\",\n\"data\":{\n}\n}]\n};\n           var plotContainer = document.getElementById(\"tfSXHE\");\n           window.letsPlotCall(function() {{\n               LetsPlot.buildPlotFromProcessedSpecs(plotSpec, -1, -1, plotContainer);\n           }});\n       })();    \n   </script>"
     },
     "execution_count": 16,
     "metadata": {},
     "output_type": "execute_result"
    }
   ],
   "source": [
    "letsPlot(testResultData) {\n",
    "    x = \"ages\"\n",
    "    y = \"possibilities\"\n",
    "} +\n",
    "geomLine() +\n",
    "xlab(\"Age (13 - 100)\") +\n",
    "ylab(\"possibilities (%)\")"
   ],
   "metadata": {
    "collapsed": false,
    "pycharm": {
     "name": "#%%\n"
    }
   }
  },
  {
   "cell_type": "markdown",
   "id": "2cfe095a-082e-4231-9d41-e81e91cb2cc2",
   "metadata": {},
   "source": [
    "this is the result                                                                            \n",
    "the first element in returned array is the possibility of not experiencing side effect        \n",
    "the second element is the possibility of experiencing side effect                                                                                         "
   ]
  },
  {
   "cell_type": "markdown",
   "id": "cedcfe46-d0d0-4a09-91eb-ce47b918cfac",
   "metadata": {},
   "source": [
    "for older people, we expect have higher possibility on experiencing side effect               \n",
    "second element > first element    "
   ]
  },
  {
   "cell_type": "code",
   "execution_count": 17,
   "id": "5d767f81-b562-479b-a0aa-3f5cad8e5eb4",
   "metadata": {},
   "outputs": [
    {
     "name": "stdout",
     "output_type": "stream",
     "text": [
      "[0.33318543, 0.66681457]\r\n"
     ]
    }
   ],
   "source": [
    " val predictOlderResult = model.predictSoftly(createScaledDatasetForTest(75), 1)[0]\n",
    "println(predictOlderResult.contentToString())\n",
    "check(predictOlderResult[1] > predictOlderResult[0]) { \"Older people have lower possibility on experiencing side effect, it is not expected.\" }"
   ]
  },
  {
   "cell_type": "markdown",
   "id": "e136bb38-c85a-4048-88b1-f2fb48139235",
   "metadata": {},
   "source": [
    "and for younger people, we expect have lower possibility on experiencing side effect                               \n",
    "first element > second element                                                                                     "
   ]
  },
  {
   "cell_type": "code",
   "execution_count": 18,
   "id": "79e676b8-fb68-454b-b45b-dfcd8f7c12e2",
   "metadata": {},
   "outputs": [
    {
     "name": "stdout",
     "output_type": "stream",
     "text": [
      "[0.7240495, 0.2759505]\r\n"
     ]
    }
   ],
   "source": [
    "val predictYoungerResult = model.predictSoftly(createScaledDatasetForTest(35), 1)[0]\n",
    "println(predictYoungerResult.contentToString())\n",
    "check(predictYoungerResult[0] > predictYoungerResult[1]) { \"Younger people have higher possibility on experiencing side effect, it is not expected.\" }"
   ]
  },
  {
   "cell_type": "code",
   "execution_count": 19,
   "id": "8f957704-b411-4b7e-8b6e-3dc539171215",
   "metadata": {},
   "outputs": [],
   "source": [
    "model.close()"
   ]
  }
 ],
 "metadata": {
  "kernelspec": {
   "display_name": "Kotlin",
   "language": "kotlin",
   "name": "kotlin"
  },
  "language_info": {
   "codemirror_mode": "text/x-kotlin",
   "file_extension": ".kt",
   "mimetype": "text/x-kotlin",
   "name": "kotlin",
   "nbconvert_exporter": "",
   "pygments_lexer": "kotlin",
   "version": "1.6.20-dev-6372"
  }
 },
 "nbformat": 4,
 "nbformat_minor": 5
}