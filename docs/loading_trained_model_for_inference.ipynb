{
 "cells": [
  {
   "cell_type": "markdown",
   "source": [
    "<em><sub>This page is available as an executable or viewable <strong>Jupyter Notebook</strong></sub></em>\n",
    "<br/><br/>\n",
    "<a href=\"https://mybinder.org/v2/gh/avan1235/KotlinDL/notebooks?filepath=docs%2Floading_trained_model_for_inference.ipynb\"\n",
    "   target=\"_parent\">\n",
    "   <img align=\"left\"\n",
    "        src=\"https://mybinder.org/badge_logo.svg\"\n",
    "        height=\"20\">\n",
    "</a>\n",
    "<a href=\"https://nbviewer.jupyter.org/github/avan1235/KotlinDL/blob/notebooks/docs/loading_trained_model_for_inference.ipynb\"\n",
    "   target=\"_parent\">\n",
    "   <img align=\"right\"\n",
    "        src=\"https://raw.githubusercontent.com/jupyter/design/master/logos/Badges/nbviewer_badge.svg\"\n",
    "        height=\"20\">\n",
    "</a>\n",
    "<br/><br/>"
   ],
   "attachments": {},
   "metadata": {}
  },
  {
   "cell_type": "code",
   "source": [
    "@file:DependsOn(\"org.jetbrains.kotlinx:kotlin-deeplearning-api:0.2.0\")"
   ],
   "execution_count": 1,
   "outputs": [],
   "metadata": {}
  },
  {
   "cell_type": "markdown",
   "source": [
    "In the previous tutorials, we [created](create_your_first_nn.ipynb), [trained, and saved](training_a_model.ipynb) a deep learning model.\n",
    "Now let's look at how we can load and use that model to generate predictions on new, previously unseen data.\n",
    "\n",
    "To do this, we will quickly reuse the code from the previous tutorials to provide the actual files with model state. Let's see how we can use the gained experience to briefly create, train and save the sample model."
   ],
   "attachments": {},
   "metadata": {}
  },
  {
   "cell_type": "code",
   "source": [
    "import org.jetbrains.kotlinx.dl.api.core.Sequential\n",
    "import org.jetbrains.kotlinx.dl.api.core.WritingMode\n",
    "import org.jetbrains.kotlinx.dl.api.core.layer.core.Input\n",
    "import org.jetbrains.kotlinx.dl.api.core.layer.reshaping.Flatten\n",
    "import org.jetbrains.kotlinx.dl.api.core.layer.core.Dense\n",
    "import org.jetbrains.kotlinx.dl.api.core.loss.Losses\n",
    "import org.jetbrains.kotlinx.dl.api.core.metric.Metrics\n",
    "import org.jetbrains.kotlinx.dl.api.core.optimizer.Adam\n",
    "import org.jetbrains.kotlinx.dl.dataset.fashionMnist\n",
    "import java.io.File\n",
    "\n",
    "\n",
    "val modelLocation = File(\"src/model/my_first_model\")\n",
    "\n",
    "// extract the train and test data samples with labels\n",
    "val (train, test) = fashionMnist()\n",
    "\n",
    "// define our model\n",
    "Sequential.of(\n",
    "    Input(28, 28, 1),\n",
    "    Flatten(),\n",
    "    Dense(300),\n",
    "    Dense(100),\n",
    "    Dense(10)\n",
    ").use { model ->\n",
    "    // compile model for usage\n",
    "    model.compile(\n",
    "        optimizer = Adam(),\n",
    "        loss = Losses.SOFT_MAX_CROSS_ENTROPY_WITH_LOGITS,\n",
    "        metric = Metrics.ACCURACY\n",
    "    )\n",
    "    // train compiled model\n",
    "    model.fit(\n",
    "        dataset = train,\n",
    "        epochs = 10,\n",
    "        batchSize = 100\n",
    "    )\n",
    "    // save model weights to local file\n",
    "    model.save(modelLocation, writingMode = WritingMode.OVERRIDE)\n",
    "}"
   ],
   "execution_count": 2,
   "outputs": [
    {
     "name": "stdout",
     "text": [
      "Extracting 60000 images of 28x28 from /workspace/cache/datasets/fashionmnist/train-images-idx3-ubyte.gz\n",
      "Extracting 60000 labels from /workspace/cache/datasets/fashionmnist/train-labels-idx1-ubyte.gz\n",
      "Extracting 10000 images of 28x28 from /workspace/cache/datasets/fashionmnist/t10k-images-idx3-ubyte.gz\n",
      "Extracting 10000 labels from /workspace/cache/datasets/fashionmnist/t10k-labels-idx1-ubyte.gz\n"
     ],
     "output_type": "stream"
    }
   ],
   "metadata": {}
  },
  {
   "cell_type": "markdown",
   "source": [
    "For illustration purposes, and to simplify the data processing in this tutorial, \n",
    "we'll use the test data to make a prediction example of the loaded model on the data\n",
    "the model has not been trained on.\n",
    "\n",
    "The example images in the test data have the same size and format as the ones the model has been trained on, \n",
    "so we do not need to do any additional preprocessing. \n",
    "However, if you are going to train the model on your own data, \n",
    "make sure to use the image preprocessing before using an image for inference to get\n",
    "exactly the same input structure for model as it was trained on. \n",
    "\n",
    "To load the model simply use the path to it, tell it how incoming images should be reshaped (if needed), and call the\n",
    " `predict` method on them."
   ],
   "attachments": {},
   "metadata": {}
  },
  {
   "cell_type": "code",
   "source": [
    "import org.jetbrains.kotlinx.dl.api.inference.InferenceModel\n",
    "\n",
    "val labelsMap = mapOf(\n",
    "        0 to \"T-shirt/top\",\n",
    "        1 to \"Trousers\",\n",
    "        2 to \"Pullover\",\n",
    "        3 to \"Dress\",\n",
    "        4 to \"Coat\",\n",
    "        5 to \"Sandals\",\n",
    "        6 to \"Shirt\",\n",
    "        7 to \"Sneakers\",\n",
    "        8 to \"Bag\",\n",
    "        9 to \"Ankle boots\"\n",
    ")\n",
    "\n",
    "InferenceModel.load(modelLocation).use { model ->\n",
    "                                        \n",
    "    model.reshape(28, 28, 1)\n",
    "\n",
    "    val prediction = model.predict(test.getX(0))\n",
    "    val actualLabel = test.getY(0)\n",
    "    \n",
    "    println(\"Predicted label is: $prediction.\")\n",
    "    println(\"This corresponds to class ${labelsMap[prediction]}.\")\n",
    "    println(\"Actual label is: $actualLabel.\")\n",
    "}"
   ],
   "execution_count": 5,
   "outputs": [
    {
     "name": "stdout",
     "text": [
      "Predicted label is: 9.\n",
      "This corresponds to class Ankle boots.\n",
      "Actual label is: 9.0.\n"
     ],
     "output_type": "stream"
    }
   ],
   "metadata": {}
  },
  {
   "cell_type": "markdown",
   "source": [
    "This shows how short and easy can be usage of an already trained model comparing to the code\n",
    "needed to train the model that we presented for the completeness of this example.\n",
    "\n",
    "Congratulations! You have learned how to create, train, and use your first neural network model!\n",
    "Now you may be interested in [loading model from Keras](importing_keras_model.ipynb) or getting\n",
    "familiar with [transfer learning in KotlinDL](transfer_learning.ipynb)."
   ],
   "attachments": {},
   "metadata": {}
  }
 ],
 "metadata": {
  "kernelspec": {
   "display_name": "Kotlin",
   "language": "kotlin",
   "name": "kotlin"
  }
 },
 "nbformat": 4,
 "nbformat_minor": 0
}