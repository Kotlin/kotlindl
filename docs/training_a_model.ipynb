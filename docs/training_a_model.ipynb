{
 "cells": [
  {
   "cell_type": "markdown",
   "source": [
    "<em><sub>This page is available as an executable or viewable <strong>Jupyter Notebook</strong></sub></em>\n",
    "<br/><br/>\n",
    "<a href=\"https://mybinder.org/v2/gh/avan1235/KotlinDL/notebooks?filepath=docs%2Ftraining_a_model.ipynb\"\n",
    "   target=\"_parent\">\n",
    "   <img align=\"left\"\n",
    "        src=\"https://mybinder.org/badge_logo.svg\"\n",
    "        height=\"20\">\n",
    "</a>\n",
    "<a href=\"https://nbviewer.jupyter.org/github/avan1235/KotlinDL/blob/notebooks/docs/training_a_model.ipynb\"\n",
    "   target=\"_parent\">\n",
    "   <img align=\"right\"\n",
    "        src=\"https://raw.githubusercontent.com/jupyter/design/master/logos/Badges/nbviewer_badge.svg\"\n",
    "        height=\"20\">\n",
    "</a>\n",
    "<br/><br/>"
   ],
   "attachments": {},
   "metadata": {}
  },
  {
   "cell_type": "code",
   "source": [
    "@file:DependsOn(\"org.jetbrains.kotlinx:kotlin-deeplearning-api:0.2.0\")"
   ],
   "execution_count": 1,
   "outputs": [],
   "metadata": {}
  },
  {
   "cell_type": "markdown",
   "source": [
    "# Training a model with KotlinDL\n",
    "\n",
    "In the [first tutorial](create_your_first_nn.ipynb) we created some base example of Neural Network that was build of dense layers only. Let's recall the created code to use it for actual training of the model:"
   ],
   "attachments": {},
   "metadata": {}
  },
  {
   "cell_type": "code",
   "source": [
    "import org.jetbrains.kotlinx.dl.api.core.Sequential\n",
    "import org.jetbrains.kotlinx.dl.api.core.layer.core.Input\n",
    "import org.jetbrains.kotlinx.dl.api.core.layer.reshaping.Flatten\n",
    "import org.jetbrains.kotlinx.dl.api.core.layer.core.Dense\n",
    "\n",
    "\n",
    "val model = Sequential.of(\n",
    "    Input(28, 28, 1),\n",
    "    Flatten(),\n",
    "    Dense(300),\n",
    "    Dense(100),\n",
    "    Dense(10)\n",
    ")"
   ],
   "execution_count": 2,
   "outputs": [],
   "metadata": {}
  },
  {
   "cell_type": "markdown",
   "source": [
    "Before you can use data, typically some preprocessing is required.\n",
    "\n",
    "In this case, it's minimal – all the images are already the same size and are grayscale. \n",
    "With the built-in functionality, we can convert the [Fashion MNIST image archives](https://github.com/zalandoresearch/fashion-mnist#get-the-data) into a dataset object that we can use for model training.    "
   ],
   "attachments": {},
   "metadata": {}
  },
  {
   "cell_type": "code",
   "source": [
    "import org.jetbrains.kotlinx.dl.dataset.fashionMnist\n",
    "\n",
    "\n",
    "val (train, test) = fashionMnist()"
   ],
   "execution_count": 3,
   "outputs": [
    {
     "name": "stdout",
     "text": [
      "Extracting 60000 images of 28x28 from /workspace/cache/datasets/fashionmnist/train-images-idx3-ubyte.gz\n",
      "Extracting 60000 labels from /workspace/cache/datasets/fashionmnist/train-labels-idx1-ubyte.gz\n",
      "Extracting 10000 images of 28x28 from /workspace/cache/datasets/fashionmnist/t10k-images-idx3-ubyte.gz\n",
      "Extracting 10000 labels from /workspace/cache/datasets/fashionmnist/t10k-labels-idx1-ubyte.gz\n"
     ],
     "output_type": "stream"
    }
   ],
   "metadata": {}
  },
  {
   "cell_type": "markdown",
   "source": [
    "You may also notice that we are splitting the data into two sets. \n",
    "We have the `test` set, which we won't be touching until we are satisfied with the model and want to confirm its performance on unseen data. \n",
    "We have also the `train` set which we'll use during the training process.\n",
    "Usually we also split the provided `train` set into two parts - the actual training data (that contains most of the samples) and the validation data (that plays the role of temporal tests that we would perform during training not to touch the `test` set).\n",
    "\n",
    "Now everything is ready to train the model. Use the `fit()` method for this:"
   ],
   "attachments": {},
   "metadata": {}
  },
  {
   "cell_type": "code",
   "source": [
    "import org.jetbrains.kotlinx.dl.api.core.optimizer.Adam\n",
    "import org.jetbrains.kotlinx.dl.api.core.loss.Losses\n",
    "import org.jetbrains.kotlinx.dl.api.core.metric.Metrics\n",
    "\n",
    "model.compile(\n",
    "    optimizer = Adam(),\n",
    "    loss = Losses.SOFT_MAX_CROSS_ENTROPY_WITH_LOGITS,\n",
    "    metric = Metrics.ACCURACY\n",
    ")\n",
    "\n",
    "val trainHistory = model.fit(\n",
    "    dataset = train,\n",
    "    epochs = 10,\n",
    "    batchSize = 100\n",
    ")"
   ],
   "execution_count": 4,
   "outputs": [],
   "metadata": {}
  },
  {
   "cell_type": "markdown",
   "source": [
    "Here are some important parameters that we need to pass to the `fit()` method:\n",
    "* `epochs` - Number of iterations over the data you want the training process to perform. Epoch = iteration. \n",
    "* `batchSize` - How many examples will be used for updating the model's parameters (aka weights and biases) at a time.\n",
    "\n",
    "After the model has been trained, it's important to evaluate its performance on the validation dataset, so that we can check how it generalizes to the new data. "
   ],
   "attachments": {},
   "metadata": {}
  },
  {
   "cell_type": "code",
   "source": [
    "val accuracy = model.evaluate(dataset = test, batchSize = 100).metrics[Metrics.ACCURACY]\n",
    "\n",
    "println(\"Accuracy: $accuracy\")"
   ],
   "execution_count": 5,
   "outputs": [
    {
     "name": "stdout",
     "text": [
      "Accuracy: 0.8832000494003296\n"
     ],
     "output_type": "stream"
    }
   ],
   "metadata": {}
  },
  {
   "cell_type": "markdown",
   "source": [
    "---\n",
    "**NOTE**\n",
    "\n",
    "The results are nondeterministic, and you may have a slightly different Accuracy value. \n",
    "\n",
    "---\n",
    "\n",
    "When we are happy with the model's evaluation metric, we can save the model for future use in the production environment and close it as already used resource."
   ],
   "attachments": {},
   "metadata": {}
  },
  {
   "cell_type": "code",
   "source": [
    "import org.jetbrains.kotlinx.dl.api.core.WritingMode\n",
    "import java.io.File\n",
    "\n",
    "\n",
    "model.save(File(\"src/model/my_first_model\"), writingMode = WritingMode.OVERRIDE)\n",
    "model.close()"
   ],
   "execution_count": 6,
   "outputs": [],
   "metadata": {}
  },
  {
   "cell_type": "markdown",
   "source": [
    "And just like that, we have trained, evaluated, and saved a deep learning model that we can now use to generate predictions (aka inference). \n",
    "In the [next tutorial](loading_trained_model_for_inference.ipynb), you'll learn how to load and use the model."
   ],
   "attachments": {},
   "metadata": {}
  }
 ],
 "metadata": {
  "kernelspec": {
   "display_name": "Kotlin",
   "language": "kotlin",
   "name": "kotlin"
  }
 },
 "nbformat": 4,
 "nbformat_minor": 0
}